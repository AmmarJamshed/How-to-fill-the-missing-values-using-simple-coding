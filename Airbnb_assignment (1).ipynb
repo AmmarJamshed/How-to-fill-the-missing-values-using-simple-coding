{
 "cells": [
  {
   "cell_type": "markdown",
   "metadata": {},
   "source": [
    "Airbnb Assignment by Sir Tariq"
   ]
  },
  {
   "cell_type": "markdown",
   "metadata": {},
   "source": [
    "Student: Muhammad Ammar Jamshed "
   ]
  },
  {
   "cell_type": "code",
   "execution_count": 147,
   "metadata": {},
   "outputs": [],
   "source": [
    "import pandas as pd\n",
    "import numpy as np\n",
    "import seaborn as sns\n",
    "import re\n",
    "import string\n",
    "from scipy import stats"
   ]
  },
  {
   "cell_type": "code",
   "execution_count": 148,
   "metadata": {},
   "outputs": [],
   "source": [
    "df = pd.read_csv(r'C:\\Users\\muham\\Downloads\\singapairbnb_dirty_data .csv')"
   ]
  },
  {
   "cell_type": "code",
   "execution_count": 149,
   "metadata": {},
   "outputs": [
    {
     "data": {
      "text/html": [
       "<div>\n",
       "<style scoped>\n",
       "    .dataframe tbody tr th:only-of-type {\n",
       "        vertical-align: middle;\n",
       "    }\n",
       "\n",
       "    .dataframe tbody tr th {\n",
       "        vertical-align: top;\n",
       "    }\n",
       "\n",
       "    .dataframe thead th {\n",
       "        text-align: right;\n",
       "    }\n",
       "</style>\n",
       "<table border=\"1\" class=\"dataframe\">\n",
       "  <thead>\n",
       "    <tr style=\"text-align: right;\">\n",
       "      <th></th>\n",
       "      <th>id</th>\n",
       "      <th>name</th>\n",
       "      <th>host_id</th>\n",
       "      <th>host_name</th>\n",
       "      <th>neighbourhood_group</th>\n",
       "      <th>neighbourhood</th>\n",
       "      <th>latitude</th>\n",
       "      <th>longitude</th>\n",
       "      <th>room_type</th>\n",
       "      <th>price</th>\n",
       "      <th>minimum_nights</th>\n",
       "      <th>number_of_reviews</th>\n",
       "      <th>last_review</th>\n",
       "      <th>reviews_per_month</th>\n",
       "      <th>calculated_host_listings_count</th>\n",
       "      <th>availability_365</th>\n",
       "    </tr>\n",
       "  </thead>\n",
       "  <tbody>\n",
       "    <tr>\n",
       "      <th>0</th>\n",
       "      <td>49091</td>\n",
       "      <td>COZICOMFORT LONG TERM STAY ROOM 2</td>\n",
       "      <td>266763</td>\n",
       "      <td>Francesca</td>\n",
       "      <td>North Region</td>\n",
       "      <td>Woodlands</td>\n",
       "      <td>1.44255</td>\n",
       "      <td>103.79580</td>\n",
       "      <td>1</td>\n",
       "      <td>83</td>\n",
       "      <td>180</td>\n",
       "      <td>1</td>\n",
       "      <td>21/10/2013</td>\n",
       "      <td>0.01</td>\n",
       "      <td>2</td>\n",
       "      <td>365.0</td>\n",
       "    </tr>\n",
       "    <tr>\n",
       "      <th>1</th>\n",
       "      <td>50646</td>\n",
       "      <td>Pleasant Room along Bukit Timah</td>\n",
       "      <td>227796</td>\n",
       "      <td>Sujatha</td>\n",
       "      <td>Central Region</td>\n",
       "      <td>Bukit Timah</td>\n",
       "      <td>1.33235</td>\n",
       "      <td>103.78521</td>\n",
       "      <td>2</td>\n",
       "      <td>81</td>\n",
       "      <td>90</td>\n",
       "      <td>18</td>\n",
       "      <td>26/12/2014</td>\n",
       "      <td>0.28</td>\n",
       "      <td>1</td>\n",
       "      <td>365.0</td>\n",
       "    </tr>\n",
       "    <tr>\n",
       "      <th>2</th>\n",
       "      <td>56334</td>\n",
       "      <td>COZICOMFORT</td>\n",
       "      <td>266763</td>\n",
       "      <td>Francesca</td>\n",
       "      <td>North Region</td>\n",
       "      <td>Woodlands</td>\n",
       "      <td>1.44246</td>\n",
       "      <td>103.79667</td>\n",
       "      <td>3</td>\n",
       "      <td>69</td>\n",
       "      <td>6</td>\n",
       "      <td>20</td>\n",
       "      <td>1/10/2015</td>\n",
       "      <td>0.20</td>\n",
       "      <td>2</td>\n",
       "      <td>365.0</td>\n",
       "    </tr>\n",
       "    <tr>\n",
       "      <th>3</th>\n",
       "      <td>71609</td>\n",
       "      <td>Ensuite Room (Room 1 &amp; 2) near EXPO</td>\n",
       "      <td>367042</td>\n",
       "      <td>Belinda</td>\n",
       "      <td>East Region</td>\n",
       "      <td>Tampines</td>\n",
       "      <td>1.34541</td>\n",
       "      <td>103.95712</td>\n",
       "      <td>4</td>\n",
       "      <td>206</td>\n",
       "      <td>1</td>\n",
       "      <td>14</td>\n",
       "      <td>11/8/2019</td>\n",
       "      <td>0.15</td>\n",
       "      <td>9</td>\n",
       "      <td>353.0</td>\n",
       "    </tr>\n",
       "    <tr>\n",
       "      <th>4</th>\n",
       "      <td>71896</td>\n",
       "      <td>B&amp;B  Room 1 near Airport &amp; EXPO</td>\n",
       "      <td>367042</td>\n",
       "      <td>Belinda</td>\n",
       "      <td>East Region</td>\n",
       "      <td>Tampines</td>\n",
       "      <td>1.34567</td>\n",
       "      <td>103.95963</td>\n",
       "      <td>Private room</td>\n",
       "      <td>94</td>\n",
       "      <td>1</td>\n",
       "      <td>22</td>\n",
       "      <td>28/07/2019</td>\n",
       "      <td>0.22</td>\n",
       "      <td>9</td>\n",
       "      <td>355.0</td>\n",
       "    </tr>\n",
       "    <tr>\n",
       "      <th>...</th>\n",
       "      <td>...</td>\n",
       "      <td>...</td>\n",
       "      <td>...</td>\n",
       "      <td>...</td>\n",
       "      <td>...</td>\n",
       "      <td>...</td>\n",
       "      <td>...</td>\n",
       "      <td>...</td>\n",
       "      <td>...</td>\n",
       "      <td>...</td>\n",
       "      <td>...</td>\n",
       "      <td>...</td>\n",
       "      <td>...</td>\n",
       "      <td>...</td>\n",
       "      <td>...</td>\n",
       "      <td>...</td>\n",
       "    </tr>\n",
       "    <tr>\n",
       "      <th>7902</th>\n",
       "      <td>38105126</td>\n",
       "      <td>Loft 2 pax near Haw Par / Pasir Panjang. Free ...</td>\n",
       "      <td>278109833</td>\n",
       "      <td>Belle</td>\n",
       "      <td>Central Region</td>\n",
       "      <td>Queenstown</td>\n",
       "      <td>1.27973</td>\n",
       "      <td>103.78751</td>\n",
       "      <td>Entire home/apt</td>\n",
       "      <td>100</td>\n",
       "      <td>NaN</td>\n",
       "      <td>0</td>\n",
       "      <td>NaN</td>\n",
       "      <td>NaN</td>\n",
       "      <td>31</td>\n",
       "      <td>61.0</td>\n",
       "    </tr>\n",
       "    <tr>\n",
       "      <th>7903</th>\n",
       "      <td>38108273</td>\n",
       "      <td>3bedroom luxury at Orchard</td>\n",
       "      <td>238891646</td>\n",
       "      <td>Neha</td>\n",
       "      <td>Central Region</td>\n",
       "      <td>Tanglin</td>\n",
       "      <td>1.29269</td>\n",
       "      <td>103.82623</td>\n",
       "      <td>Entire home/apt</td>\n",
       "      <td>550</td>\n",
       "      <td>NaN</td>\n",
       "      <td>0</td>\n",
       "      <td>NaN</td>\n",
       "      <td>NaN</td>\n",
       "      <td>34</td>\n",
       "      <td>365.0</td>\n",
       "    </tr>\n",
       "    <tr>\n",
       "      <th>7904</th>\n",
       "      <td>38109336</td>\n",
       "      <td>[ Farrer Park ] New City Fringe CBD Mins to MRT</td>\n",
       "      <td>281448565</td>\n",
       "      <td>Mindy</td>\n",
       "      <td>Central Region</td>\n",
       "      <td>Kallang</td>\n",
       "      <td>1.31286</td>\n",
       "      <td>103.85996</td>\n",
       "      <td>Private room</td>\n",
       "      <td>58</td>\n",
       "      <td>NaN</td>\n",
       "      <td>0</td>\n",
       "      <td>NaN</td>\n",
       "      <td>NaN</td>\n",
       "      <td>3</td>\n",
       "      <td>173.0</td>\n",
       "    </tr>\n",
       "    <tr>\n",
       "      <th>7905</th>\n",
       "      <td>38110493</td>\n",
       "      <td>Cheap Master Room in Central of Singapore</td>\n",
       "      <td>243835202</td>\n",
       "      <td>Huang</td>\n",
       "      <td>Central Region</td>\n",
       "      <td>River Valley</td>\n",
       "      <td>1.29543</td>\n",
       "      <td>103.83801</td>\n",
       "      <td>Private room</td>\n",
       "      <td>56</td>\n",
       "      <td>NaN</td>\n",
       "      <td>0</td>\n",
       "      <td>NaN</td>\n",
       "      <td>NaN</td>\n",
       "      <td>2</td>\n",
       "      <td>30.0</td>\n",
       "    </tr>\n",
       "    <tr>\n",
       "      <th>7906</th>\n",
       "      <td>38112762</td>\n",
       "      <td>Amazing room with private bathroom walk to Orc...</td>\n",
       "      <td>28788520</td>\n",
       "      <td>Terence</td>\n",
       "      <td>Central Region</td>\n",
       "      <td>River Valley</td>\n",
       "      <td>1.29672</td>\n",
       "      <td>103.83325</td>\n",
       "      <td>Private room</td>\n",
       "      <td>1500</td>\n",
       "      <td>NaN</td>\n",
       "      <td>0</td>\n",
       "      <td>NaN</td>\n",
       "      <td>NaN</td>\n",
       "      <td>7</td>\n",
       "      <td>365.0</td>\n",
       "    </tr>\n",
       "  </tbody>\n",
       "</table>\n",
       "<p>7907 rows × 16 columns</p>\n",
       "</div>"
      ],
      "text/plain": [
       "            id                                               name    host_id  \\\n",
       "0        49091                  COZICOMFORT LONG TERM STAY ROOM 2     266763   \n",
       "1        50646                    Pleasant Room along Bukit Timah     227796   \n",
       "2        56334                                        COZICOMFORT     266763   \n",
       "3        71609                Ensuite Room (Room 1 & 2) near EXPO     367042   \n",
       "4        71896                    B&B  Room 1 near Airport & EXPO     367042   \n",
       "...        ...                                                ...        ...   \n",
       "7902  38105126  Loft 2 pax near Haw Par / Pasir Panjang. Free ...  278109833   \n",
       "7903  38108273                         3bedroom luxury at Orchard  238891646   \n",
       "7904  38109336    [ Farrer Park ] New City Fringe CBD Mins to MRT  281448565   \n",
       "7905  38110493          Cheap Master Room in Central of Singapore  243835202   \n",
       "7906  38112762  Amazing room with private bathroom walk to Orc...   28788520   \n",
       "\n",
       "      host_name neighbourhood_group neighbourhood  latitude  longitude  \\\n",
       "0     Francesca        North Region     Woodlands   1.44255  103.79580   \n",
       "1       Sujatha      Central Region   Bukit Timah   1.33235  103.78521   \n",
       "2     Francesca        North Region     Woodlands   1.44246  103.79667   \n",
       "3       Belinda         East Region      Tampines   1.34541  103.95712   \n",
       "4       Belinda         East Region      Tampines   1.34567  103.95963   \n",
       "...         ...                 ...           ...       ...        ...   \n",
       "7902      Belle      Central Region    Queenstown   1.27973  103.78751   \n",
       "7903       Neha      Central Region       Tanglin   1.29269  103.82623   \n",
       "7904      Mindy      Central Region       Kallang   1.31286  103.85996   \n",
       "7905      Huang      Central Region  River Valley   1.29543  103.83801   \n",
       "7906    Terence      Central Region  River Valley   1.29672  103.83325   \n",
       "\n",
       "            room_type  price minimum_nights  number_of_reviews last_review  \\\n",
       "0                   1     83            180                  1  21/10/2013   \n",
       "1                   2     81             90                 18  26/12/2014   \n",
       "2                   3     69              6                 20   1/10/2015   \n",
       "3                   4    206              1                 14   11/8/2019   \n",
       "4        Private room     94              1                 22  28/07/2019   \n",
       "...               ...    ...            ...                ...         ...   \n",
       "7902  Entire home/apt    100            NaN                  0         NaN   \n",
       "7903  Entire home/apt    550            NaN                  0         NaN   \n",
       "7904     Private room     58            NaN                  0         NaN   \n",
       "7905     Private room     56            NaN                  0         NaN   \n",
       "7906     Private room   1500            NaN                  0         NaN   \n",
       "\n",
       "      reviews_per_month  calculated_host_listings_count  availability_365  \n",
       "0                  0.01                               2             365.0  \n",
       "1                  0.28                               1             365.0  \n",
       "2                  0.20                               2             365.0  \n",
       "3                  0.15                               9             353.0  \n",
       "4                  0.22                               9             355.0  \n",
       "...                 ...                             ...               ...  \n",
       "7902                NaN                              31              61.0  \n",
       "7903                NaN                              34             365.0  \n",
       "7904                NaN                               3             173.0  \n",
       "7905                NaN                               2              30.0  \n",
       "7906                NaN                               7             365.0  \n",
       "\n",
       "[7907 rows x 16 columns]"
      ]
     },
     "execution_count": 149,
     "metadata": {},
     "output_type": "execute_result"
    }
   ],
   "source": [
    "# first lets evaulate the data in a broad manner \n",
    "df"
   ]
  },
  {
   "cell_type": "markdown",
   "metadata": {},
   "source": [
    "After evaulating the data set we can conclude that the data belongs to the Hoteling industry and is recording information\n",
    "on customers who are using Airbnb to spend nights in hotels and lodges in Singapore"
   ]
  },
  {
   "cell_type": "code",
   "execution_count": 150,
   "metadata": {},
   "outputs": [
    {
     "name": "stdout",
     "output_type": "stream",
     "text": [
      "<class 'pandas.core.frame.DataFrame'>\n",
      "RangeIndex: 7907 entries, 0 to 7906\n",
      "Data columns (total 16 columns):\n",
      " #   Column                          Non-Null Count  Dtype  \n",
      "---  ------                          --------------  -----  \n",
      " 0   id                              7895 non-null   object \n",
      " 1   name                            7863 non-null   object \n",
      " 2   host_id                         7907 non-null   object \n",
      " 3   host_name                       7907 non-null   object \n",
      " 4   neighbourhood_group             7841 non-null   object \n",
      " 5   neighbourhood                   7870 non-null   object \n",
      " 6   latitude                        7907 non-null   float64\n",
      " 7   longitude                       7907 non-null   float64\n",
      " 8   room_type                       7890 non-null   object \n",
      " 9   price                           7907 non-null   int64  \n",
      " 10  minimum_nights                  7891 non-null   object \n",
      " 11  number_of_reviews               7907 non-null   int64  \n",
      " 12  last_review                     5149 non-null   object \n",
      " 13  reviews_per_month               5149 non-null   float64\n",
      " 14  calculated_host_listings_count  7907 non-null   int64  \n",
      " 15  availability_365                7521 non-null   float64\n",
      "dtypes: float64(4), int64(3), object(9)\n",
      "memory usage: 988.5+ KB\n"
     ]
    }
   ],
   "source": [
    "# lets see all the data types present in the data set and understand the data\n",
    "df.info()"
   ]
  },
  {
   "cell_type": "code",
   "execution_count": 151,
   "metadata": {},
   "outputs": [
    {
     "data": {
      "text/plain": [
       "id                                  12\n",
       "name                                44\n",
       "host_id                              0\n",
       "host_name                            0\n",
       "neighbourhood_group                 66\n",
       "neighbourhood                       37\n",
       "latitude                             0\n",
       "longitude                            0\n",
       "room_type                           17\n",
       "price                                0\n",
       "minimum_nights                      16\n",
       "number_of_reviews                    0\n",
       "last_review                       2758\n",
       "reviews_per_month                 2758\n",
       "calculated_host_listings_count       0\n",
       "availability_365                   386\n",
       "dtype: int64"
      ]
     },
     "execution_count": 151,
     "metadata": {},
     "output_type": "execute_result"
    }
   ],
   "source": [
    "#lets verify if there are null values in the data set \n",
    "df.isnull().sum()"
   ]
  },
  {
   "cell_type": "markdown",
   "metadata": {},
   "source": [
    "# what is our strategy for filling missing values in the neighborhood?"
   ]
  },
  {
   "cell_type": "code",
   "execution_count": 152,
   "metadata": {},
   "outputs": [
    {
     "name": "stdout",
     "output_type": "stream",
     "text": [
      "column name\t\t\tIsUnique\n"
     ]
    },
    {
     "data": {
      "text/plain": [
       "id                                False\n",
       "name                              False\n",
       "host_id                           False\n",
       "host_name                         False\n",
       "neighbourhood_group               False\n",
       "neighbourhood                     False\n",
       "latitude                          False\n",
       "longitude                         False\n",
       "room_type                         False\n",
       "price                             False\n",
       "minimum_nights                    False\n",
       "number_of_reviews                 False\n",
       "last_review                       False\n",
       "reviews_per_month                 False\n",
       "calculated_host_listings_count    False\n",
       "availability_365                  False\n",
       "dtype: bool"
      ]
     },
     "execution_count": 152,
     "metadata": {},
     "output_type": "execute_result"
    }
   ],
   "source": [
    "# we can use regex wild cards in python to look for unique values by using unique identifying chars\n",
    "print('column name' + '\\t\\t\\t' + 'IsUnique')\n",
    "df.apply(lambda x: x.is_unique,axis=0)"
   ]
  },
  {
   "cell_type": "code",
   "execution_count": 153,
   "metadata": {},
   "outputs": [
    {
     "name": "stdout",
     "output_type": "stream",
     "text": [
      "Series([], Name: neighbourhood_group, dtype: int64)\n"
     ]
    }
   ],
   "source": [
    "#first we look for the null values in neighbour hood columns in which places\n",
    "print(df[df['neighbourhood_group'].isnull()]['neighbourhood_group'].value_counts())"
   ]
  },
  {
   "cell_type": "code",
   "execution_count": 154,
   "metadata": {},
   "outputs": [],
   "source": [
    "# we shall drop id since its not unique \n",
    "df = df.drop('id', axis=1)"
   ]
  },
  {
   "cell_type": "code",
   "execution_count": 155,
   "metadata": {},
   "outputs": [
    {
     "data": {
      "text/plain": [
       "name                                44\n",
       "host_id                              0\n",
       "host_name                            0\n",
       "neighbourhood_group                 66\n",
       "neighbourhood                       37\n",
       "latitude                             0\n",
       "longitude                            0\n",
       "room_type                           17\n",
       "price                                0\n",
       "minimum_nights                      16\n",
       "number_of_reviews                    0\n",
       "last_review                       2758\n",
       "reviews_per_month                 2758\n",
       "calculated_host_listings_count       0\n",
       "availability_365                   386\n",
       "dtype: int64"
      ]
     },
     "execution_count": 155,
     "metadata": {},
     "output_type": "execute_result"
    }
   ],
   "source": [
    "# improvement, since we dropped one column\n",
    "df.apply(lambda x: sum(x.isnull()),axis=0)"
   ]
  },
  {
   "cell_type": "code",
   "execution_count": 156,
   "metadata": {},
   "outputs": [
    {
     "name": "stdout",
     "output_type": "stream",
     "text": [
      "Central Region       31\n",
      "East Region           3\n",
      "North-East Region     2\n",
      "North Region          1\n",
      "Name: neighbourhood_group, dtype: int64\n"
     ]
    }
   ],
   "source": [
    "#first we look for the null values in neighbour hood columns, in which places\n",
    "print(df[df['neighbourhood'].isnull()]['neighbourhood_group'].value_counts())"
   ]
  },
  {
   "cell_type": "code",
   "execution_count": 157,
   "metadata": {},
   "outputs": [
    {
     "data": {
      "text/html": [
       "<div>\n",
       "<style scoped>\n",
       "    .dataframe tbody tr th:only-of-type {\n",
       "        vertical-align: middle;\n",
       "    }\n",
       "\n",
       "    .dataframe tbody tr th {\n",
       "        vertical-align: top;\n",
       "    }\n",
       "\n",
       "    .dataframe thead th {\n",
       "        text-align: right;\n",
       "    }\n",
       "</style>\n",
       "<table border=\"1\" class=\"dataframe\">\n",
       "  <thead>\n",
       "    <tr style=\"text-align: right;\">\n",
       "      <th></th>\n",
       "      <th>name</th>\n",
       "      <th>host_id</th>\n",
       "      <th>host_name</th>\n",
       "      <th>neighbourhood_group</th>\n",
       "      <th>neighbourhood</th>\n",
       "      <th>latitude</th>\n",
       "      <th>longitude</th>\n",
       "      <th>room_type</th>\n",
       "      <th>price</th>\n",
       "      <th>minimum_nights</th>\n",
       "      <th>number_of_reviews</th>\n",
       "      <th>last_review</th>\n",
       "      <th>reviews_per_month</th>\n",
       "      <th>calculated_host_listings_count</th>\n",
       "      <th>availability_365</th>\n",
       "    </tr>\n",
       "  </thead>\n",
       "  <tbody>\n",
       "    <tr>\n",
       "      <th>0</th>\n",
       "      <td>COZICOMFORT LONG TERM STAY ROOM 2</td>\n",
       "      <td>266763</td>\n",
       "      <td>Francesca</td>\n",
       "      <td>North Region</td>\n",
       "      <td>Woodlands</td>\n",
       "      <td>1.44255</td>\n",
       "      <td>103.79580</td>\n",
       "      <td>1</td>\n",
       "      <td>83</td>\n",
       "      <td>180</td>\n",
       "      <td>1</td>\n",
       "      <td>21/10/2013</td>\n",
       "      <td>0.01</td>\n",
       "      <td>2</td>\n",
       "      <td>365.0</td>\n",
       "    </tr>\n",
       "    <tr>\n",
       "      <th>1</th>\n",
       "      <td>Pleasant Room along Bukit Timah</td>\n",
       "      <td>227796</td>\n",
       "      <td>Sujatha</td>\n",
       "      <td>Central Region</td>\n",
       "      <td>Bukit Timah</td>\n",
       "      <td>1.33235</td>\n",
       "      <td>103.78521</td>\n",
       "      <td>2</td>\n",
       "      <td>81</td>\n",
       "      <td>90</td>\n",
       "      <td>18</td>\n",
       "      <td>26/12/2014</td>\n",
       "      <td>0.28</td>\n",
       "      <td>1</td>\n",
       "      <td>365.0</td>\n",
       "    </tr>\n",
       "    <tr>\n",
       "      <th>2</th>\n",
       "      <td>COZICOMFORT</td>\n",
       "      <td>266763</td>\n",
       "      <td>Francesca</td>\n",
       "      <td>North Region</td>\n",
       "      <td>Woodlands</td>\n",
       "      <td>1.44246</td>\n",
       "      <td>103.79667</td>\n",
       "      <td>3</td>\n",
       "      <td>69</td>\n",
       "      <td>6</td>\n",
       "      <td>20</td>\n",
       "      <td>1/10/2015</td>\n",
       "      <td>0.20</td>\n",
       "      <td>2</td>\n",
       "      <td>365.0</td>\n",
       "    </tr>\n",
       "    <tr>\n",
       "      <th>3</th>\n",
       "      <td>Ensuite Room (Room 1 &amp; 2) near EXPO</td>\n",
       "      <td>367042</td>\n",
       "      <td>Belinda</td>\n",
       "      <td>East Region</td>\n",
       "      <td>Tampines</td>\n",
       "      <td>1.34541</td>\n",
       "      <td>103.95712</td>\n",
       "      <td>4</td>\n",
       "      <td>206</td>\n",
       "      <td>1</td>\n",
       "      <td>14</td>\n",
       "      <td>11/8/2019</td>\n",
       "      <td>0.15</td>\n",
       "      <td>9</td>\n",
       "      <td>353.0</td>\n",
       "    </tr>\n",
       "    <tr>\n",
       "      <th>4</th>\n",
       "      <td>B&amp;B  Room 1 near Airport &amp; EXPO</td>\n",
       "      <td>367042</td>\n",
       "      <td>Belinda</td>\n",
       "      <td>East Region</td>\n",
       "      <td>Tampines</td>\n",
       "      <td>1.34567</td>\n",
       "      <td>103.95963</td>\n",
       "      <td>Private room</td>\n",
       "      <td>94</td>\n",
       "      <td>1</td>\n",
       "      <td>22</td>\n",
       "      <td>28/07/2019</td>\n",
       "      <td>0.22</td>\n",
       "      <td>9</td>\n",
       "      <td>355.0</td>\n",
       "    </tr>\n",
       "    <tr>\n",
       "      <th>...</th>\n",
       "      <td>...</td>\n",
       "      <td>...</td>\n",
       "      <td>...</td>\n",
       "      <td>...</td>\n",
       "      <td>...</td>\n",
       "      <td>...</td>\n",
       "      <td>...</td>\n",
       "      <td>...</td>\n",
       "      <td>...</td>\n",
       "      <td>...</td>\n",
       "      <td>...</td>\n",
       "      <td>...</td>\n",
       "      <td>...</td>\n",
       "      <td>...</td>\n",
       "      <td>...</td>\n",
       "    </tr>\n",
       "    <tr>\n",
       "      <th>7902</th>\n",
       "      <td>Loft 2 pax near Haw Par / Pasir Panjang. Free ...</td>\n",
       "      <td>278109833</td>\n",
       "      <td>Belle</td>\n",
       "      <td>Central Region</td>\n",
       "      <td>Queenstown</td>\n",
       "      <td>1.27973</td>\n",
       "      <td>103.78751</td>\n",
       "      <td>Entire home/apt</td>\n",
       "      <td>100</td>\n",
       "      <td>NaN</td>\n",
       "      <td>0</td>\n",
       "      <td>NaN</td>\n",
       "      <td>NaN</td>\n",
       "      <td>31</td>\n",
       "      <td>61.0</td>\n",
       "    </tr>\n",
       "    <tr>\n",
       "      <th>7903</th>\n",
       "      <td>3bedroom luxury at Orchard</td>\n",
       "      <td>238891646</td>\n",
       "      <td>Neha</td>\n",
       "      <td>Central Region</td>\n",
       "      <td>Tanglin</td>\n",
       "      <td>1.29269</td>\n",
       "      <td>103.82623</td>\n",
       "      <td>Entire home/apt</td>\n",
       "      <td>550</td>\n",
       "      <td>NaN</td>\n",
       "      <td>0</td>\n",
       "      <td>NaN</td>\n",
       "      <td>NaN</td>\n",
       "      <td>34</td>\n",
       "      <td>365.0</td>\n",
       "    </tr>\n",
       "    <tr>\n",
       "      <th>7904</th>\n",
       "      <td>[ Farrer Park ] New City Fringe CBD Mins to MRT</td>\n",
       "      <td>281448565</td>\n",
       "      <td>Mindy</td>\n",
       "      <td>Central Region</td>\n",
       "      <td>Kallang</td>\n",
       "      <td>1.31286</td>\n",
       "      <td>103.85996</td>\n",
       "      <td>Private room</td>\n",
       "      <td>58</td>\n",
       "      <td>NaN</td>\n",
       "      <td>0</td>\n",
       "      <td>NaN</td>\n",
       "      <td>NaN</td>\n",
       "      <td>3</td>\n",
       "      <td>173.0</td>\n",
       "    </tr>\n",
       "    <tr>\n",
       "      <th>7905</th>\n",
       "      <td>Cheap Master Room in Central of Singapore</td>\n",
       "      <td>243835202</td>\n",
       "      <td>Huang</td>\n",
       "      <td>Central Region</td>\n",
       "      <td>River Valley</td>\n",
       "      <td>1.29543</td>\n",
       "      <td>103.83801</td>\n",
       "      <td>Private room</td>\n",
       "      <td>56</td>\n",
       "      <td>NaN</td>\n",
       "      <td>0</td>\n",
       "      <td>NaN</td>\n",
       "      <td>NaN</td>\n",
       "      <td>2</td>\n",
       "      <td>30.0</td>\n",
       "    </tr>\n",
       "    <tr>\n",
       "      <th>7906</th>\n",
       "      <td>Amazing room with private bathroom walk to Orc...</td>\n",
       "      <td>28788520</td>\n",
       "      <td>Terence</td>\n",
       "      <td>Central Region</td>\n",
       "      <td>River Valley</td>\n",
       "      <td>1.29672</td>\n",
       "      <td>103.83325</td>\n",
       "      <td>Private room</td>\n",
       "      <td>1500</td>\n",
       "      <td>NaN</td>\n",
       "      <td>0</td>\n",
       "      <td>NaN</td>\n",
       "      <td>NaN</td>\n",
       "      <td>7</td>\n",
       "      <td>365.0</td>\n",
       "    </tr>\n",
       "  </tbody>\n",
       "</table>\n",
       "<p>7907 rows × 15 columns</p>\n",
       "</div>"
      ],
      "text/plain": [
       "                                                   name    host_id  host_name  \\\n",
       "0                     COZICOMFORT LONG TERM STAY ROOM 2     266763  Francesca   \n",
       "1                       Pleasant Room along Bukit Timah     227796    Sujatha   \n",
       "2                                           COZICOMFORT     266763  Francesca   \n",
       "3                   Ensuite Room (Room 1 & 2) near EXPO     367042    Belinda   \n",
       "4                       B&B  Room 1 near Airport & EXPO     367042    Belinda   \n",
       "...                                                 ...        ...        ...   \n",
       "7902  Loft 2 pax near Haw Par / Pasir Panjang. Free ...  278109833      Belle   \n",
       "7903                         3bedroom luxury at Orchard  238891646       Neha   \n",
       "7904    [ Farrer Park ] New City Fringe CBD Mins to MRT  281448565      Mindy   \n",
       "7905          Cheap Master Room in Central of Singapore  243835202      Huang   \n",
       "7906  Amazing room with private bathroom walk to Orc...   28788520    Terence   \n",
       "\n",
       "     neighbourhood_group neighbourhood  latitude  longitude        room_type  \\\n",
       "0           North Region     Woodlands   1.44255  103.79580                1   \n",
       "1         Central Region   Bukit Timah   1.33235  103.78521                2   \n",
       "2           North Region     Woodlands   1.44246  103.79667                3   \n",
       "3            East Region      Tampines   1.34541  103.95712                4   \n",
       "4            East Region      Tampines   1.34567  103.95963     Private room   \n",
       "...                  ...           ...       ...        ...              ...   \n",
       "7902      Central Region    Queenstown   1.27973  103.78751  Entire home/apt   \n",
       "7903      Central Region       Tanglin   1.29269  103.82623  Entire home/apt   \n",
       "7904      Central Region       Kallang   1.31286  103.85996     Private room   \n",
       "7905      Central Region  River Valley   1.29543  103.83801     Private room   \n",
       "7906      Central Region  River Valley   1.29672  103.83325     Private room   \n",
       "\n",
       "      price minimum_nights  number_of_reviews last_review  reviews_per_month  \\\n",
       "0        83            180                  1  21/10/2013               0.01   \n",
       "1        81             90                 18  26/12/2014               0.28   \n",
       "2        69              6                 20   1/10/2015               0.20   \n",
       "3       206              1                 14   11/8/2019               0.15   \n",
       "4        94              1                 22  28/07/2019               0.22   \n",
       "...     ...            ...                ...         ...                ...   \n",
       "7902    100            NaN                  0         NaN                NaN   \n",
       "7903    550            NaN                  0         NaN                NaN   \n",
       "7904     58            NaN                  0         NaN                NaN   \n",
       "7905     56            NaN                  0         NaN                NaN   \n",
       "7906   1500            NaN                  0         NaN                NaN   \n",
       "\n",
       "      calculated_host_listings_count  availability_365  \n",
       "0                                  2             365.0  \n",
       "1                                  1             365.0  \n",
       "2                                  2             365.0  \n",
       "3                                  9             353.0  \n",
       "4                                  9             355.0  \n",
       "...                              ...               ...  \n",
       "7902                              31              61.0  \n",
       "7903                              34             365.0  \n",
       "7904                               3             173.0  \n",
       "7905                               2              30.0  \n",
       "7906                               7             365.0  \n",
       "\n",
       "[7907 rows x 15 columns]"
      ]
     },
     "execution_count": 157,
     "metadata": {},
     "output_type": "execute_result"
    }
   ],
   "source": [
    "# we visualize the file here for ease of view\n",
    "df"
   ]
  },
  {
   "cell_type": "code",
   "execution_count": 158,
   "metadata": {},
   "outputs": [
    {
     "name": "stdout",
     "output_type": "stream",
     "text": [
      "Geylang             12\n",
      "River Valley         5\n",
      "Tanglin              4\n",
      "Bukit Merah          4\n",
      "Novena               4\n",
      "Rochor               4\n",
      "Bukit Timah          3\n",
      "Outram               3\n",
      "Kallang              3\n",
      "Queenstown           3\n",
      "Downtown Core        2\n",
      "Toa Payoh            2\n",
      "Bedok                2\n",
      "Yishun               1\n",
      "Newton               1\n",
      "Southern Islands     1\n",
      "Orchard              1\n",
      "Bukit Panjang        1\n",
      "Clementi             1\n",
      "Sembawang            1\n",
      "Singapore River      1\n",
      "Hougang              1\n",
      "Serangoon            1\n",
      "Bukit Batok          1\n",
      "Ang Mo Kio           1\n",
      "Jurong West          1\n",
      "Choa Chu Kang        1\n",
      "Bishan               1\n",
      "Name: neighbourhood, dtype: int64\n"
     ]
    }
   ],
   "source": [
    "#thus for the missing reigons we can identify them with the particular city the affliated with the most\n",
    "print(df[df['neighbourhood_group'].isnull()]['neighbourhood'].value_counts())"
   ]
  },
  {
   "cell_type": "code",
   "execution_count": 159,
   "metadata": {},
   "outputs": [
    {
     "name": "stdout",
     "output_type": "stream",
     "text": [
      "Geylang             12\n",
      "River Valley         5\n",
      "Tanglin              4\n",
      "Bukit Merah          4\n",
      "Novena               4\n",
      "Rochor               4\n",
      "Bukit Timah          3\n",
      "Outram               3\n",
      "Kallang              3\n",
      "Queenstown           3\n",
      "Downtown Core        2\n",
      "Toa Payoh            2\n",
      "Bedok                2\n",
      "Yishun               1\n",
      "Newton               1\n",
      "Southern Islands     1\n",
      "Orchard              1\n",
      "Bukit Panjang        1\n",
      "Clementi             1\n",
      "Sembawang            1\n",
      "Singapore River      1\n",
      "Hougang              1\n",
      "Serangoon            1\n",
      "Bukit Batok          1\n",
      "Ang Mo Kio           1\n",
      "Jurong West          1\n",
      "Choa Chu Kang        1\n",
      "Bishan               1\n",
      "Name: neighbourhood, dtype: int64\n"
     ]
    }
   ],
   "source": [
    "# lets now check if the missing values of 'River Valley' has been filled\n",
    "print(df[df['neighbourhood_group'].isnull()]['neighbourhood'].value_counts())"
   ]
  },
  {
   "cell_type": "code",
   "execution_count": 160,
   "metadata": {},
   "outputs": [
    {
     "name": "stdout",
     "output_type": "stream",
     "text": [
      "Kallang             1034\n",
      "Geylang              972\n",
      "Rochor               531\n",
      "Novena               529\n",
      "Outram               472\n",
      "Bukit Merah          463\n",
      "Downtown Core        426\n",
      "River Valley         357\n",
      "Queenstown           260\n",
      "Tanglin              206\n",
      "Singapore River      174\n",
      "Marine Parade        171\n",
      "Orchard              135\n",
      "Newton               133\n",
      "Bukit Timah          127\n",
      "Toa Payoh             99\n",
      "Museum                62\n",
      "Bishan                56\n",
      "Southern Islands      16\n",
      "Marina South           1\n",
      "Name: neighbourhood, dtype: int64\n"
     ]
    }
   ],
   "source": [
    "# lets examine if there are other missing values in Central reigion \n",
    "print(df[df['neighbourhood_group'] == 'Central Region']['neighbourhood'].value_counts())"
   ]
  },
  {
   "cell_type": "code",
   "execution_count": 161,
   "metadata": {},
   "outputs": [],
   "source": [
    "# we now replace the central reigon vallues with kallang as its the MODE\n",
    "cond = (df['neighbourhood_group'] == 'Central Region') & (df['neighbourhood'].isnull())\n",
    "df.loc[cond, 'neighbourhood'] = 'Kallang'"
   ]
  },
  {
   "cell_type": "code",
   "execution_count": 162,
   "metadata": {},
   "outputs": [
    {
     "name": "stdout",
     "output_type": "stream",
     "text": [
      "East Region          3\n",
      "North-East Region    2\n",
      "North Region         1\n",
      "Name: neighbourhood_group, dtype: int64\n"
     ]
    }
   ],
   "source": [
    "# Now we shall check if it has been filled \n",
    "print(df[df['neighbourhood'].isnull()]['neighbourhood_group'].value_counts())"
   ]
  },
  {
   "cell_type": "markdown",
   "metadata": {},
   "source": [
    "Thus its succeeded here now we have ti fill the same for East, North and North East by checking their mode "
   ]
  },
  {
   "cell_type": "code",
   "execution_count": 163,
   "metadata": {},
   "outputs": [
    {
     "name": "stdout",
     "output_type": "stream",
     "text": [
      "Bedok        369\n",
      "Pasir Ris     71\n",
      "Tampines      63\n",
      "Name: neighbourhood, dtype: int64\n",
      "Hougang       108\n",
      "Serangoon      68\n",
      "Sengkang       67\n",
      "Ang Mo Kio     56\n",
      "Punggol        42\n",
      "Name: neighbourhood, dtype: int64\n",
      "Woodlands                  66\n",
      "Yishun                     52\n",
      "Sembawang                  40\n",
      "Central Water Catchment    34\n",
      "Sungei Kadut                5\n",
      "Mandai                      3\n",
      "Lim Chu Kang                1\n",
      "Name: neighbourhood, dtype: int64\n"
     ]
    }
   ],
   "source": [
    "# we check the mode of 'East Region'\n",
    "print(df[df['neighbourhood_group'] == 'East Region']['neighbourhood'].value_counts())\n",
    "print(df[df['neighbourhood_group'] == 'North-East Region']['neighbourhood'].value_counts())\n",
    "print(df[df['neighbourhood_group'] == 'North Region']['neighbourhood'].value_counts())"
   ]
  },
  {
   "cell_type": "code",
   "execution_count": 164,
   "metadata": {},
   "outputs": [],
   "source": [
    "# we replace the value of the missing values of East Region with Bedok\n",
    "cond1 = (df['neighbourhood_group'] == 'East Region') & (df['neighbourhood'].isnull())\n",
    "df.loc[cond1, 'neighbourhood'] = 'Bedok'\n",
    "# we over here replace the value of the missing values of the North-East region with Hougang\n",
    "cond2 = (df['neighbourhood_group'] == 'North-East Region') & (df['neighbourhood'].isnull())\n",
    "df.loc[cond2, 'neighbourhood'] = 'Hougang'\n",
    "# we over here replace the value of the missing values of the North Region with Woodlands\n",
    "cond3 = (df['neighbourhood_group'] == 'North Region') & (df['neighbourhood'].isnull())\n",
    "df.loc[cond3, 'neighbourhood'] = 'Woodlands'"
   ]
  },
  {
   "cell_type": "code",
   "execution_count": 165,
   "metadata": {},
   "outputs": [
    {
     "name": "stdout",
     "output_type": "stream",
     "text": [
      "Series([], Name: neighbourhood_group, dtype: int64)\n"
     ]
    }
   ],
   "source": [
    "# thus we shall now check if all missing value replacement was a success\n",
    "print(df[df['neighbourhood'].isnull()]['neighbourhood_group'].value_counts())"
   ]
  },
  {
   "cell_type": "code",
   "execution_count": 166,
   "metadata": {},
   "outputs": [
    {
     "data": {
      "text/plain": [
       "name                                44\n",
       "host_id                              0\n",
       "host_name                            0\n",
       "neighbourhood_group                 66\n",
       "neighbourhood                        0\n",
       "latitude                             0\n",
       "longitude                            0\n",
       "room_type                           17\n",
       "price                                0\n",
       "minimum_nights                      16\n",
       "number_of_reviews                    0\n",
       "last_review                       2758\n",
       "reviews_per_month                 2758\n",
       "calculated_host_listings_count       0\n",
       "availability_365                   386\n",
       "dtype: int64"
      ]
     },
     "execution_count": 166,
     "metadata": {},
     "output_type": "execute_result"
    }
   ],
   "source": [
    "df.isnull().sum()"
   ]
  },
  {
   "cell_type": "markdown",
   "metadata": {},
   "source": [
    "thus proven we have filled all null values in the Neighbourhood column by using the mode of each Region"
   ]
  },
  {
   "cell_type": "markdown",
   "metadata": {},
   "source": [
    "#  what is our strategy for filling missing values in the neighborhood group?"
   ]
  },
  {
   "cell_type": "code",
   "execution_count": 167,
   "metadata": {},
   "outputs": [
    {
     "name": "stdout",
     "output_type": "stream",
     "text": [
      "Geylang             12\n",
      "River Valley         5\n",
      "Tanglin              4\n",
      "Bukit Merah          4\n",
      "Novena               4\n",
      "Rochor               4\n",
      "Bukit Timah          3\n",
      "Outram               3\n",
      "Kallang              3\n",
      "Queenstown           3\n",
      "Downtown Core        2\n",
      "Toa Payoh            2\n",
      "Bedok                2\n",
      "Yishun               1\n",
      "Newton               1\n",
      "Southern Islands     1\n",
      "Orchard              1\n",
      "Bukit Panjang        1\n",
      "Clementi             1\n",
      "Sembawang            1\n",
      "Singapore River      1\n",
      "Hougang              1\n",
      "Serangoon            1\n",
      "Bukit Batok          1\n",
      "Ang Mo Kio           1\n",
      "Jurong West          1\n",
      "Choa Chu Kang        1\n",
      "Bishan               1\n",
      "Name: neighbourhood, dtype: int64\n"
     ]
    }
   ],
   "source": [
    "print(df[df['neighbourhood_group'].isnull()]['neighbourhood'].value_counts())"
   ]
  },
  {
   "cell_type": "code",
   "execution_count": 168,
   "metadata": {},
   "outputs": [
    {
     "data": {
      "text/plain": [
       "Central Region       6255\n",
       "West Region           535\n",
       "East Region           506\n",
       "North-East Region     343\n",
       "North Region          202\n",
       "Name: neighbourhood_group, dtype: int64"
      ]
     },
     "execution_count": 168,
     "metadata": {},
     "output_type": "execute_result"
    }
   ],
   "source": [
    "df['neighbourhood_group'].value_counts()"
   ]
  },
  {
   "cell_type": "code",
   "execution_count": 169,
   "metadata": {},
   "outputs": [],
   "source": [
    "# we shall use a function with Regex characters in re.match method to fill the null values of Neighbourhood groups as they cant be fecthed\n",
    "# using common filling methods due to the presence of a large no of unique values as shown in value counts\n",
    "d = df['neighbourhood'].unique()\n",
    "for val in d:\n",
    "    i = str(df[df['neighbourhood'] == val]['neighbourhood_group'].value_counts())\n",
    "    c = re.match('\\w+(?:-\\w+)+\\s.[a-z]*|.[a-z]*\\s.[a-z]*',i)\n",
    "    condo = (df['neighbourhood'] == val) & (df['neighbourhood_group'].isnull())\n",
    "    df.loc[condo,'neighbourhood_group'] = c[0]"
   ]
  },
  {
   "cell_type": "code",
   "execution_count": 170,
   "metadata": {},
   "outputs": [
    {
     "data": {
      "text/plain": [
       "name                                44\n",
       "host_id                              0\n",
       "host_name                            0\n",
       "neighbourhood_group                  0\n",
       "neighbourhood                        0\n",
       "latitude                             0\n",
       "longitude                            0\n",
       "room_type                           17\n",
       "price                                0\n",
       "minimum_nights                      16\n",
       "number_of_reviews                    0\n",
       "last_review                       2758\n",
       "reviews_per_month                 2758\n",
       "calculated_host_listings_count       0\n",
       "availability_365                   386\n",
       "dtype: int64"
      ]
     },
     "execution_count": 170,
     "metadata": {},
     "output_type": "execute_result"
    }
   ],
   "source": [
    "# now we check if the neighbourhood_group column  is cleaned by applying lamda to the isnull function for full accuracy\n",
    "df.apply(lambda x: sum(x.isnull()),axis=0)"
   ]
  },
  {
   "cell_type": "markdown",
   "metadata": {},
   "source": [
    "thus we succeded in cleaning both Neighbourhood and neighbourhood_group column"
   ]
  },
  {
   "cell_type": "markdown",
   "metadata": {},
   "source": [
    "# Replace missing values in minimum nights with the mean"
   ]
  },
  {
   "cell_type": "code",
   "execution_count": 171,
   "metadata": {},
   "outputs": [],
   "source": [
    "# we shall replace missing values using the mean\n",
    "# by first converting the dataframe to numeric data\n",
    "df['minimum_nights'] = pd.to_numeric(df['minimum_nights'], errors= 'coerce')"
   ]
  },
  {
   "cell_type": "code",
   "execution_count": 172,
   "metadata": {},
   "outputs": [
    {
     "data": {
      "text/plain": [
       "17.530299188640974"
      ]
     },
     "execution_count": 172,
     "metadata": {},
     "output_type": "execute_result"
    }
   ],
   "source": [
    "# we now calculate the mean\n",
    "df['minimum_nights'].mean()"
   ]
  },
  {
   "cell_type": "code",
   "execution_count": 173,
   "metadata": {},
   "outputs": [],
   "source": [
    "# we now fill the mean of 17.53 calculated above in the missing values\n",
    "df['minimum_nights'].fillna(17.53, inplace = True)"
   ]
  },
  {
   "cell_type": "code",
   "execution_count": 174,
   "metadata": {},
   "outputs": [
    {
     "data": {
      "text/plain": [
       "name                                44\n",
       "host_id                              0\n",
       "host_name                            0\n",
       "neighbourhood_group                  0\n",
       "neighbourhood                        0\n",
       "latitude                             0\n",
       "longitude                            0\n",
       "room_type                           17\n",
       "price                                0\n",
       "minimum_nights                       0\n",
       "number_of_reviews                    0\n",
       "last_review                       2758\n",
       "reviews_per_month                 2758\n",
       "calculated_host_listings_count       0\n",
       "availability_365                   386\n",
       "dtype: int64"
      ]
     },
     "execution_count": 174,
     "metadata": {},
     "output_type": "execute_result"
    }
   ],
   "source": [
    "# lets now test if the null values have been filled\n",
    "df.apply(lambda x: sum(x.isnull()),axis=0)"
   ]
  },
  {
   "cell_type": "markdown",
   "metadata": {},
   "source": [
    "Thus as shown above we have successfully filled the remaining values of minimum nights with mean"
   ]
  },
  {
   "cell_type": "markdown",
   "metadata": {},
   "source": [
    "# Explain how missing values are being replaced in hostname. Can you think of another solution for this?"
   ]
  },
  {
   "cell_type": "markdown",
   "metadata": {},
   "source": [
    "The values in the host name are being replaced with the value 0 ti avoid inaccuracies of replacing the hostname \n",
    "with the wrong variable.\n",
    "\n",
    "There are other solutions available for this as well such as using mode to fill the null values with the most common\n",
    "hostname, as the host_id being a unique identifier of each name holds the aunthentic verification of the hostname\n",
    "and also using the related neighbourhood_group to fill the missing hostname as Hostname Francesca resides in\n",
    "the north reigion with the host_id 266763, thus we can fill with either and still have relative accuracy but more so with \n",
    "host_id"
   ]
  },
  {
   "cell_type": "markdown",
   "metadata": {},
   "source": [
    "# Explain how missing values are being replaced in reviews per month. Can you think of another solution for this?"
   ]
  },
  {
   "cell_type": "markdown",
   "metadata": {},
   "source": [
    "Missing values in reviews per Month are being replaced using the mean, and another solutio for this would be using\n",
    "the Mode as we since this a cetegorical variable based on qualititative insights, using the most common review would \n",
    "give us a better view of what most customers are thinking and work according to it in improvements"
   ]
  },
  {
   "cell_type": "markdown",
   "metadata": {},
   "source": [
    "# Remove all missing values in the bnb file according to your own plan if needed, i.e. you can change the way for \n",
    "# replacing the missings in one or more columns. In this case, mention which changes you have made"
   ]
  },
  {
   "cell_type": "code",
   "execution_count": 175,
   "metadata": {},
   "outputs": [
    {
     "data": {
      "text/plain": [
       "name                                44\n",
       "host_id                              0\n",
       "host_name                            0\n",
       "neighbourhood_group                  0\n",
       "neighbourhood                        0\n",
       "latitude                             0\n",
       "longitude                            0\n",
       "room_type                           17\n",
       "price                                0\n",
       "minimum_nights                       0\n",
       "number_of_reviews                    0\n",
       "last_review                       2758\n",
       "reviews_per_month                 2758\n",
       "calculated_host_listings_count       0\n",
       "availability_365                   386\n",
       "dtype: int64"
      ]
     },
     "execution_count": 175,
     "metadata": {},
     "output_type": "execute_result"
    }
   ],
   "source": [
    "# Lets check in which columns do missing Values remain \n",
    "df.isnull().sum()"
   ]
  },
  {
   "cell_type": "code",
   "execution_count": 176,
   "metadata": {},
   "outputs": [
    {
     "data": {
      "text/plain": [
       "0    Luxury hostel with in-cabin locker - Single mixed\n",
       "dtype: object"
      ]
     },
     "execution_count": 176,
     "metadata": {},
     "output_type": "execute_result"
    }
   ],
   "source": [
    "# we shall first replace all missing values using mode as its not a unique value, but we cannot drop it cause it will\n",
    "# create disrepancies in our dataset\n",
    "df['name'].mode()"
   ]
  },
  {
   "cell_type": "code",
   "execution_count": 177,
   "metadata": {},
   "outputs": [],
   "source": [
    "# thus we fill it using the mode of 'Luxury hostel with in-cabin locker - Single mixed\n",
    "df['name'].fillna('Luxury hostel with in-cabin locker - Single mixed', inplace = True)"
   ]
  },
  {
   "cell_type": "code",
   "execution_count": 178,
   "metadata": {},
   "outputs": [
    {
     "data": {
      "text/plain": [
       "name                                 0\n",
       "host_id                              0\n",
       "host_name                            0\n",
       "neighbourhood_group                  0\n",
       "neighbourhood                        0\n",
       "latitude                             0\n",
       "longitude                            0\n",
       "room_type                           17\n",
       "price                                0\n",
       "minimum_nights                       0\n",
       "number_of_reviews                    0\n",
       "last_review                       2758\n",
       "reviews_per_month                 2758\n",
       "calculated_host_listings_count       0\n",
       "availability_365                   386\n",
       "dtype: int64"
      ]
     },
     "execution_count": 178,
     "metadata": {},
     "output_type": "execute_result"
    }
   ],
   "source": [
    "# now we shall test if that worked \n",
    "df.isnull().sum()"
   ]
  },
  {
   "cell_type": "markdown",
   "metadata": {},
   "source": [
    "Thus we succed in eliminting the null values in the 'name' column"
   ]
  },
  {
   "cell_type": "markdown",
   "metadata": {},
   "source": [
    "# Room Type Column"
   ]
  },
  {
   "cell_type": "code",
   "execution_count": 179,
   "metadata": {},
   "outputs": [
    {
     "data": {
      "text/plain": [
       "17"
      ]
     },
     "execution_count": 179,
     "metadata": {},
     "output_type": "execute_result"
    }
   ],
   "source": [
    "df['room_type'].isnull().sum()"
   ]
  },
  {
   "cell_type": "code",
   "execution_count": 180,
   "metadata": {},
   "outputs": [
    {
     "data": {
      "text/plain": [
       "Entire home/apt    4126\n",
       "Private room       3368\n",
       "Shared room         392\n",
       "2                     1\n",
       "3                     1\n",
       "1                     1\n",
       "4                     1\n",
       "Name: room_type, dtype: int64"
      ]
     },
     "execution_count": 180,
     "metadata": {},
     "output_type": "execute_result"
    }
   ],
   "source": [
    "df['room_type'].value_counts()"
   ]
  },
  {
   "cell_type": "code",
   "execution_count": 181,
   "metadata": {},
   "outputs": [],
   "source": [
    "# we shall use groupby to check which room type matches with which neigbourhood_group to atleast know \n",
    "# we first convert them both to category variables so they can be correlated\n",
    "df= df.astype({'room_type': 'category', 'neighbourhood_group': 'category' })\n"
   ]
  },
  {
   "cell_type": "code",
   "execution_count": 182,
   "metadata": {},
   "outputs": [
    {
     "data": {
      "text/plain": [
       "room_type        neighbourhood_group\n",
       "1                Central Region            0\n",
       "                 East Region               0\n",
       "                 North Region              1\n",
       "                 North-East Region         0\n",
       "                 West Region               0\n",
       "2                Central Region            1\n",
       "                 East Region               0\n",
       "                 North Region              0\n",
       "                 North-East Region         0\n",
       "                 West Region               0\n",
       "3                Central Region            0\n",
       "                 East Region               0\n",
       "                 North Region              1\n",
       "                 North-East Region         0\n",
       "                 West Region               0\n",
       "4                Central Region            0\n",
       "                 East Region               1\n",
       "                 North Region              0\n",
       "                 North-East Region         0\n",
       "                 West Region               0\n",
       "Entire home/apt  Central Region         3733\n",
       "                 East Region             130\n",
       "                 North Region             53\n",
       "                 North-East Region        64\n",
       "                 West Region             146\n",
       "Private room     Central Region         2217\n",
       "                 East Region             364\n",
       "                 North Region            140\n",
       "                 North-East Region       270\n",
       "                 West Region             377\n",
       "Shared room      Central Region          346\n",
       "                 East Region              11\n",
       "                 North Region              9\n",
       "                 North-East Region        10\n",
       "                 West Region              16\n",
       "dtype: int64"
      ]
     },
     "execution_count": 182,
     "metadata": {},
     "output_type": "execute_result"
    }
   ],
   "source": [
    "df.groupby(['room_type', 'neighbourhood_group']).size()"
   ]
  },
  {
   "cell_type": "code",
   "execution_count": 183,
   "metadata": {},
   "outputs": [
    {
     "name": "stdout",
     "output_type": "stream",
     "text": [
      "2252       Central Region\n",
      "2253    North-East Region\n",
      "2254          East Region\n",
      "2255       Central Region\n",
      "2256    North-East Region\n",
      "2257       Central Region\n",
      "2258       Central Region\n",
      "2259       Central Region\n",
      "7560       Central Region\n",
      "7561          West Region\n",
      "7562       Central Region\n",
      "7563       Central Region\n",
      "7564       Central Region\n",
      "7565       Central Region\n",
      "7566       Central Region\n",
      "7567       Central Region\n",
      "7568          East Region\n",
      "Name: neighbourhood_group, dtype: category\n",
      "Categories (5, object): [Central Region, East Region, North Region, North-East Region, West Region]\n"
     ]
    }
   ],
   "source": [
    "print(df[df['room_type'].isnull()]['neighbourhood_group'])"
   ]
  },
  {
   "cell_type": "code",
   "execution_count": 184,
   "metadata": {},
   "outputs": [],
   "source": [
    "# now we shall fill the missing values in room_type based on which region has which highest room_type\n",
    "# we here fill the missing values of 1 with east region\n",
    "c0 = (df['neighbourhood_group'] == 'East Region') & (df['room_type'].isnull())\n",
    "df.loc[c0, 'room_type'] = 'Private room'\n",
    "\n",
    "c1 = (df['neighbourhood_group'] == 'Central Region') & (df['room_type'].isnull())\n",
    "df.loc[c1, 'room_type'] = 'Entire home/apt'\n",
    "\n",
    "\n",
    "c2 = (df['neighbourhood_group'] == 'North Region') & (df['room_type'].isnull())\n",
    "df.loc[c2, 'room_type'] = 'Entire home/apt'\n",
    "\n",
    "\n",
    "c3 = (df['neighbourhood_group'] == 'West Region') & (df['room_type'].isnull())\n",
    "df.loc[c3, 'room_type'] = 'Shared room'\n",
    "\n",
    "c4 = (df['neighbourhood_group'] == 'North-East Region') & (df['room_type'].isnull())\n",
    "df.loc[c3, 'room_type'] = 'Private room'"
   ]
  },
  {
   "cell_type": "code",
   "execution_count": 185,
   "metadata": {},
   "outputs": [
    {
     "data": {
      "text/plain": [
       "name                                 0\n",
       "host_id                              0\n",
       "host_name                            0\n",
       "neighbourhood_group                  0\n",
       "neighbourhood                        0\n",
       "latitude                             0\n",
       "longitude                            0\n",
       "room_type                            2\n",
       "price                                0\n",
       "minimum_nights                       0\n",
       "number_of_reviews                    0\n",
       "last_review                       2758\n",
       "reviews_per_month                 2758\n",
       "calculated_host_listings_count       0\n",
       "availability_365                   386\n",
       "dtype: int64"
      ]
     },
     "execution_count": 185,
     "metadata": {},
     "output_type": "execute_result"
    }
   ],
   "source": [
    "# now we shall test if all null values have been filled in room_type\n",
    "df.apply(lambda x: sum(x.isnull()))"
   ]
  },
  {
   "cell_type": "markdown",
   "metadata": {},
   "source": [
    "now we are only left with last_review and reviews_per_month and availability 365\n"
   ]
  },
  {
   "cell_type": "markdown",
   "metadata": {},
   "source": [
    "# last_review"
   ]
  },
  {
   "cell_type": "code",
   "execution_count": 186,
   "metadata": {},
   "outputs": [
    {
     "data": {
      "text/plain": [
       "<bound method Series.mode of 0       21/10/2013\n",
       "1       26/12/2014\n",
       "2        1/10/2015\n",
       "3        11/8/2019\n",
       "4       28/07/2019\n",
       "           ...    \n",
       "7902           NaN\n",
       "7903           NaN\n",
       "7904           NaN\n",
       "7905           NaN\n",
       "7906           NaN\n",
       "Name: last_review, Length: 7907, dtype: object>"
      ]
     },
     "execution_count": 186,
     "metadata": {},
     "output_type": "execute_result"
    }
   ],
   "source": [
    "# we can replace all the missing values using mode as it will place the most common review review\n",
    "# in the missing value\n",
    "df['last_review'].mode"
   ]
  },
  {
   "cell_type": "code",
   "execution_count": 187,
   "metadata": {},
   "outputs": [
    {
     "data": {
      "text/plain": [
       "0    12/8/2019\n",
       "dtype: object"
      ]
     },
     "execution_count": 187,
     "metadata": {},
     "output_type": "execute_result"
    }
   ],
   "source": [
    "df.last_review.mode()"
   ]
  },
  {
   "cell_type": "code",
   "execution_count": 188,
   "metadata": {},
   "outputs": [],
   "source": [
    "# thus we need to place [0] after mode using the fillna function to ensure it places the actual date as the mode\n",
    "df['last_review'].fillna(df['last_review'].mode()[0],inplace = True)"
   ]
  },
  {
   "cell_type": "code",
   "execution_count": 189,
   "metadata": {},
   "outputs": [
    {
     "data": {
      "text/plain": [
       "name                                 0\n",
       "host_id                              0\n",
       "host_name                            0\n",
       "neighbourhood_group                  0\n",
       "neighbourhood                        0\n",
       "latitude                             0\n",
       "longitude                            0\n",
       "room_type                            2\n",
       "price                                0\n",
       "minimum_nights                       0\n",
       "number_of_reviews                    0\n",
       "last_review                          0\n",
       "reviews_per_month                 2758\n",
       "calculated_host_listings_count       0\n",
       "availability_365                   386\n",
       "dtype: int64"
      ]
     },
     "execution_count": 189,
     "metadata": {},
     "output_type": "execute_result"
    }
   ],
   "source": [
    "# now we test if that succeeded\n",
    "df.apply(lambda x: sum(x.isnull()))"
   ]
  },
  {
   "cell_type": "markdown",
   "metadata": {},
   "source": [
    "now we are left with the null values of reviews_per_month and availibility_365"
   ]
  },
  {
   "cell_type": "code",
   "execution_count": 190,
   "metadata": {},
   "outputs": [
    {
     "data": {
      "text/html": [
       "<div>\n",
       "<style scoped>\n",
       "    .dataframe tbody tr th:only-of-type {\n",
       "        vertical-align: middle;\n",
       "    }\n",
       "\n",
       "    .dataframe tbody tr th {\n",
       "        vertical-align: top;\n",
       "    }\n",
       "\n",
       "    .dataframe thead th {\n",
       "        text-align: right;\n",
       "    }\n",
       "</style>\n",
       "<table border=\"1\" class=\"dataframe\">\n",
       "  <thead>\n",
       "    <tr style=\"text-align: right;\">\n",
       "      <th></th>\n",
       "      <th>name</th>\n",
       "      <th>host_id</th>\n",
       "      <th>host_name</th>\n",
       "      <th>neighbourhood_group</th>\n",
       "      <th>neighbourhood</th>\n",
       "      <th>latitude</th>\n",
       "      <th>longitude</th>\n",
       "      <th>room_type</th>\n",
       "      <th>price</th>\n",
       "      <th>minimum_nights</th>\n",
       "      <th>number_of_reviews</th>\n",
       "      <th>last_review</th>\n",
       "      <th>reviews_per_month</th>\n",
       "      <th>calculated_host_listings_count</th>\n",
       "      <th>availability_365</th>\n",
       "    </tr>\n",
       "  </thead>\n",
       "  <tbody>\n",
       "    <tr>\n",
       "      <th>0</th>\n",
       "      <td>COZICOMFORT LONG TERM STAY ROOM 2</td>\n",
       "      <td>266763</td>\n",
       "      <td>Francesca</td>\n",
       "      <td>North Region</td>\n",
       "      <td>Woodlands</td>\n",
       "      <td>1.44255</td>\n",
       "      <td>103.79580</td>\n",
       "      <td>1</td>\n",
       "      <td>83</td>\n",
       "      <td>180.00</td>\n",
       "      <td>1</td>\n",
       "      <td>21/10/2013</td>\n",
       "      <td>0.01</td>\n",
       "      <td>2</td>\n",
       "      <td>365.0</td>\n",
       "    </tr>\n",
       "    <tr>\n",
       "      <th>1</th>\n",
       "      <td>Pleasant Room along Bukit Timah</td>\n",
       "      <td>227796</td>\n",
       "      <td>Sujatha</td>\n",
       "      <td>Central Region</td>\n",
       "      <td>Bukit Timah</td>\n",
       "      <td>1.33235</td>\n",
       "      <td>103.78521</td>\n",
       "      <td>2</td>\n",
       "      <td>81</td>\n",
       "      <td>90.00</td>\n",
       "      <td>18</td>\n",
       "      <td>26/12/2014</td>\n",
       "      <td>0.28</td>\n",
       "      <td>1</td>\n",
       "      <td>365.0</td>\n",
       "    </tr>\n",
       "    <tr>\n",
       "      <th>2</th>\n",
       "      <td>COZICOMFORT</td>\n",
       "      <td>266763</td>\n",
       "      <td>Francesca</td>\n",
       "      <td>North Region</td>\n",
       "      <td>Woodlands</td>\n",
       "      <td>1.44246</td>\n",
       "      <td>103.79667</td>\n",
       "      <td>3</td>\n",
       "      <td>69</td>\n",
       "      <td>6.00</td>\n",
       "      <td>20</td>\n",
       "      <td>1/10/2015</td>\n",
       "      <td>0.20</td>\n",
       "      <td>2</td>\n",
       "      <td>365.0</td>\n",
       "    </tr>\n",
       "    <tr>\n",
       "      <th>3</th>\n",
       "      <td>Ensuite Room (Room 1 &amp; 2) near EXPO</td>\n",
       "      <td>367042</td>\n",
       "      <td>Belinda</td>\n",
       "      <td>East Region</td>\n",
       "      <td>Tampines</td>\n",
       "      <td>1.34541</td>\n",
       "      <td>103.95712</td>\n",
       "      <td>4</td>\n",
       "      <td>206</td>\n",
       "      <td>1.00</td>\n",
       "      <td>14</td>\n",
       "      <td>11/8/2019</td>\n",
       "      <td>0.15</td>\n",
       "      <td>9</td>\n",
       "      <td>353.0</td>\n",
       "    </tr>\n",
       "    <tr>\n",
       "      <th>4</th>\n",
       "      <td>B&amp;B  Room 1 near Airport &amp; EXPO</td>\n",
       "      <td>367042</td>\n",
       "      <td>Belinda</td>\n",
       "      <td>East Region</td>\n",
       "      <td>Tampines</td>\n",
       "      <td>1.34567</td>\n",
       "      <td>103.95963</td>\n",
       "      <td>Private room</td>\n",
       "      <td>94</td>\n",
       "      <td>1.00</td>\n",
       "      <td>22</td>\n",
       "      <td>28/07/2019</td>\n",
       "      <td>0.22</td>\n",
       "      <td>9</td>\n",
       "      <td>355.0</td>\n",
       "    </tr>\n",
       "    <tr>\n",
       "      <th>...</th>\n",
       "      <td>...</td>\n",
       "      <td>...</td>\n",
       "      <td>...</td>\n",
       "      <td>...</td>\n",
       "      <td>...</td>\n",
       "      <td>...</td>\n",
       "      <td>...</td>\n",
       "      <td>...</td>\n",
       "      <td>...</td>\n",
       "      <td>...</td>\n",
       "      <td>...</td>\n",
       "      <td>...</td>\n",
       "      <td>...</td>\n",
       "      <td>...</td>\n",
       "      <td>...</td>\n",
       "    </tr>\n",
       "    <tr>\n",
       "      <th>7902</th>\n",
       "      <td>Loft 2 pax near Haw Par / Pasir Panjang. Free ...</td>\n",
       "      <td>278109833</td>\n",
       "      <td>Belle</td>\n",
       "      <td>Central Region</td>\n",
       "      <td>Queenstown</td>\n",
       "      <td>1.27973</td>\n",
       "      <td>103.78751</td>\n",
       "      <td>Entire home/apt</td>\n",
       "      <td>100</td>\n",
       "      <td>17.53</td>\n",
       "      <td>0</td>\n",
       "      <td>12/8/2019</td>\n",
       "      <td>NaN</td>\n",
       "      <td>31</td>\n",
       "      <td>61.0</td>\n",
       "    </tr>\n",
       "    <tr>\n",
       "      <th>7903</th>\n",
       "      <td>3bedroom luxury at Orchard</td>\n",
       "      <td>238891646</td>\n",
       "      <td>Neha</td>\n",
       "      <td>Central Region</td>\n",
       "      <td>Tanglin</td>\n",
       "      <td>1.29269</td>\n",
       "      <td>103.82623</td>\n",
       "      <td>Entire home/apt</td>\n",
       "      <td>550</td>\n",
       "      <td>17.53</td>\n",
       "      <td>0</td>\n",
       "      <td>12/8/2019</td>\n",
       "      <td>NaN</td>\n",
       "      <td>34</td>\n",
       "      <td>365.0</td>\n",
       "    </tr>\n",
       "    <tr>\n",
       "      <th>7904</th>\n",
       "      <td>[ Farrer Park ] New City Fringe CBD Mins to MRT</td>\n",
       "      <td>281448565</td>\n",
       "      <td>Mindy</td>\n",
       "      <td>Central Region</td>\n",
       "      <td>Kallang</td>\n",
       "      <td>1.31286</td>\n",
       "      <td>103.85996</td>\n",
       "      <td>Private room</td>\n",
       "      <td>58</td>\n",
       "      <td>17.53</td>\n",
       "      <td>0</td>\n",
       "      <td>12/8/2019</td>\n",
       "      <td>NaN</td>\n",
       "      <td>3</td>\n",
       "      <td>173.0</td>\n",
       "    </tr>\n",
       "    <tr>\n",
       "      <th>7905</th>\n",
       "      <td>Cheap Master Room in Central of Singapore</td>\n",
       "      <td>243835202</td>\n",
       "      <td>Huang</td>\n",
       "      <td>Central Region</td>\n",
       "      <td>River Valley</td>\n",
       "      <td>1.29543</td>\n",
       "      <td>103.83801</td>\n",
       "      <td>Private room</td>\n",
       "      <td>56</td>\n",
       "      <td>17.53</td>\n",
       "      <td>0</td>\n",
       "      <td>12/8/2019</td>\n",
       "      <td>NaN</td>\n",
       "      <td>2</td>\n",
       "      <td>30.0</td>\n",
       "    </tr>\n",
       "    <tr>\n",
       "      <th>7906</th>\n",
       "      <td>Amazing room with private bathroom walk to Orc...</td>\n",
       "      <td>28788520</td>\n",
       "      <td>Terence</td>\n",
       "      <td>Central Region</td>\n",
       "      <td>River Valley</td>\n",
       "      <td>1.29672</td>\n",
       "      <td>103.83325</td>\n",
       "      <td>Private room</td>\n",
       "      <td>1500</td>\n",
       "      <td>17.53</td>\n",
       "      <td>0</td>\n",
       "      <td>12/8/2019</td>\n",
       "      <td>NaN</td>\n",
       "      <td>7</td>\n",
       "      <td>365.0</td>\n",
       "    </tr>\n",
       "  </tbody>\n",
       "</table>\n",
       "<p>7907 rows × 15 columns</p>\n",
       "</div>"
      ],
      "text/plain": [
       "                                                   name    host_id  host_name  \\\n",
       "0                     COZICOMFORT LONG TERM STAY ROOM 2     266763  Francesca   \n",
       "1                       Pleasant Room along Bukit Timah     227796    Sujatha   \n",
       "2                                           COZICOMFORT     266763  Francesca   \n",
       "3                   Ensuite Room (Room 1 & 2) near EXPO     367042    Belinda   \n",
       "4                       B&B  Room 1 near Airport & EXPO     367042    Belinda   \n",
       "...                                                 ...        ...        ...   \n",
       "7902  Loft 2 pax near Haw Par / Pasir Panjang. Free ...  278109833      Belle   \n",
       "7903                         3bedroom luxury at Orchard  238891646       Neha   \n",
       "7904    [ Farrer Park ] New City Fringe CBD Mins to MRT  281448565      Mindy   \n",
       "7905          Cheap Master Room in Central of Singapore  243835202      Huang   \n",
       "7906  Amazing room with private bathroom walk to Orc...   28788520    Terence   \n",
       "\n",
       "     neighbourhood_group neighbourhood  latitude  longitude        room_type  \\\n",
       "0           North Region     Woodlands   1.44255  103.79580                1   \n",
       "1         Central Region   Bukit Timah   1.33235  103.78521                2   \n",
       "2           North Region     Woodlands   1.44246  103.79667                3   \n",
       "3            East Region      Tampines   1.34541  103.95712                4   \n",
       "4            East Region      Tampines   1.34567  103.95963     Private room   \n",
       "...                  ...           ...       ...        ...              ...   \n",
       "7902      Central Region    Queenstown   1.27973  103.78751  Entire home/apt   \n",
       "7903      Central Region       Tanglin   1.29269  103.82623  Entire home/apt   \n",
       "7904      Central Region       Kallang   1.31286  103.85996     Private room   \n",
       "7905      Central Region  River Valley   1.29543  103.83801     Private room   \n",
       "7906      Central Region  River Valley   1.29672  103.83325     Private room   \n",
       "\n",
       "      price  minimum_nights  number_of_reviews last_review  reviews_per_month  \\\n",
       "0        83          180.00                  1  21/10/2013               0.01   \n",
       "1        81           90.00                 18  26/12/2014               0.28   \n",
       "2        69            6.00                 20   1/10/2015               0.20   \n",
       "3       206            1.00                 14   11/8/2019               0.15   \n",
       "4        94            1.00                 22  28/07/2019               0.22   \n",
       "...     ...             ...                ...         ...                ...   \n",
       "7902    100           17.53                  0   12/8/2019                NaN   \n",
       "7903    550           17.53                  0   12/8/2019                NaN   \n",
       "7904     58           17.53                  0   12/8/2019                NaN   \n",
       "7905     56           17.53                  0   12/8/2019                NaN   \n",
       "7906   1500           17.53                  0   12/8/2019                NaN   \n",
       "\n",
       "      calculated_host_listings_count  availability_365  \n",
       "0                                  2             365.0  \n",
       "1                                  1             365.0  \n",
       "2                                  2             365.0  \n",
       "3                                  9             353.0  \n",
       "4                                  9             355.0  \n",
       "...                              ...               ...  \n",
       "7902                              31              61.0  \n",
       "7903                              34             365.0  \n",
       "7904                               3             173.0  \n",
       "7905                               2              30.0  \n",
       "7906                               7             365.0  \n",
       "\n",
       "[7907 rows x 15 columns]"
      ]
     },
     "execution_count": 190,
     "metadata": {},
     "output_type": "execute_result"
    }
   ],
   "source": [
    "df"
   ]
  },
  {
   "cell_type": "markdown",
   "metadata": {},
   "source": [
    "# availibility_365"
   ]
  },
  {
   "cell_type": "code",
   "execution_count": 191,
   "metadata": {},
   "outputs": [
    {
     "data": {
      "text/plain": [
       "<bound method Series.mean of 0       365.0\n",
       "1       365.0\n",
       "2       365.0\n",
       "3       353.0\n",
       "4       355.0\n",
       "        ...  \n",
       "7902     61.0\n",
       "7903    365.0\n",
       "7904    173.0\n",
       "7905     30.0\n",
       "7906    365.0\n",
       "Name: availability_365, Length: 7907, dtype: float64>"
      ]
     },
     "execution_count": 191,
     "metadata": {},
     "output_type": "execute_result"
    }
   ],
   "source": [
    "# we apply mean here to fill the null values , since its only plausible to know Availibility on \n",
    "# average in particular durations\n",
    "df['availability_365'].mean"
   ]
  },
  {
   "cell_type": "code",
   "execution_count": 192,
   "metadata": {},
   "outputs": [],
   "source": [
    "df['availability_365'].fillna(df['availability_365'].mean(), inplace = True)"
   ]
  },
  {
   "cell_type": "code",
   "execution_count": 193,
   "metadata": {},
   "outputs": [
    {
     "data": {
      "text/plain": [
       "name                                 0\n",
       "host_id                              0\n",
       "host_name                            0\n",
       "neighbourhood_group                  0\n",
       "neighbourhood                        0\n",
       "latitude                             0\n",
       "longitude                            0\n",
       "room_type                            2\n",
       "price                                0\n",
       "minimum_nights                       0\n",
       "number_of_reviews                    0\n",
       "last_review                          0\n",
       "reviews_per_month                 2758\n",
       "calculated_host_listings_count       0\n",
       "availability_365                     0\n",
       "dtype: int64"
      ]
     },
     "execution_count": 193,
     "metadata": {},
     "output_type": "execute_result"
    }
   ],
   "source": [
    "# now we test if the null values have been filled in availibility_365\n",
    "df.apply(lambda s: sum(s.isnull()))"
   ]
  },
  {
   "cell_type": "markdown",
   "metadata": {},
   "source": [
    " thus we now only have reviews_per_month left "
   ]
  },
  {
   "cell_type": "markdown",
   "metadata": {},
   "source": [
    "# reviews_per_month"
   ]
  },
  {
   "cell_type": "code",
   "execution_count": 194,
   "metadata": {},
   "outputs": [
    {
     "data": {
      "text/plain": [
       "0    1.0\n",
       "dtype: float64"
      ]
     },
     "execution_count": 194,
     "metadata": {},
     "output_type": "execute_result"
    }
   ],
   "source": [
    "# we shall use mode here, as it would deem optimal to use the most common review by most customers to fill in \n",
    "# the missing values without denting accuracy by a large extent\n",
    "\n",
    "df['reviews_per_month'].mode()"
   ]
  },
  {
   "cell_type": "code",
   "execution_count": 195,
   "metadata": {},
   "outputs": [],
   "source": [
    "# thus we we fill in the mode within the missing values \n",
    "df['reviews_per_month'].fillna(df['reviews_per_month'].mode()[0], inplace = True)"
   ]
  },
  {
   "cell_type": "code",
   "execution_count": 196,
   "metadata": {},
   "outputs": [
    {
     "data": {
      "text/plain": [
       "name                              0\n",
       "host_id                           0\n",
       "host_name                         0\n",
       "neighbourhood_group               0\n",
       "neighbourhood                     0\n",
       "latitude                          0\n",
       "longitude                         0\n",
       "room_type                         2\n",
       "price                             0\n",
       "minimum_nights                    0\n",
       "number_of_reviews                 0\n",
       "last_review                       0\n",
       "reviews_per_month                 0\n",
       "calculated_host_listings_count    0\n",
       "availability_365                  0\n",
       "dtype: int64"
      ]
     },
     "execution_count": 196,
     "metadata": {},
     "output_type": "execute_result"
    }
   ],
   "source": [
    "# now we confirm if our dataset is clean\n",
    "df.apply(lambda b: sum(b.isnull()))"
   ]
  },
  {
   "cell_type": "code",
   "execution_count": 197,
   "metadata": {},
   "outputs": [
    {
     "data": {
      "text/plain": [
       "<bound method Series.mode of 0                     1\n",
       "1                     2\n",
       "2                     3\n",
       "3                     4\n",
       "4          Private room\n",
       "             ...       \n",
       "7902    Entire home/apt\n",
       "7903    Entire home/apt\n",
       "7904       Private room\n",
       "7905       Private room\n",
       "7906       Private room\n",
       "Name: room_type, Length: 7907, dtype: category\n",
       "Categories (7, object): [1, 2, 3, 4, Entire home/apt, Private room, Shared room]>"
      ]
     },
     "execution_count": 197,
     "metadata": {},
     "output_type": "execute_result"
    }
   ],
   "source": [
    "# we replace the remaining null values of room_type with mode\n",
    "df['room_type'].mode"
   ]
  },
  {
   "cell_type": "code",
   "execution_count": 198,
   "metadata": {},
   "outputs": [],
   "source": [
    "df['room_type'].fillna(df['room_type'].mode()[0], inplace= True)"
   ]
  },
  {
   "cell_type": "code",
   "execution_count": 199,
   "metadata": {},
   "outputs": [
    {
     "data": {
      "text/plain": [
       "name                              0\n",
       "host_id                           0\n",
       "host_name                         0\n",
       "neighbourhood_group               0\n",
       "neighbourhood                     0\n",
       "latitude                          0\n",
       "longitude                         0\n",
       "room_type                         0\n",
       "price                             0\n",
       "minimum_nights                    0\n",
       "number_of_reviews                 0\n",
       "last_review                       0\n",
       "reviews_per_month                 0\n",
       "calculated_host_listings_count    0\n",
       "availability_365                  0\n",
       "dtype: int64"
      ]
     },
     "execution_count": 199,
     "metadata": {},
     "output_type": "execute_result"
    }
   ],
   "source": [
    "# now we confirm if our dataset is clean\n",
    "df.apply(lambda b: sum(b.isnull()))"
   ]
  },
  {
   "cell_type": "code",
   "execution_count": 200,
   "metadata": {},
   "outputs": [],
   "source": [
    "# now we conduct ANOVA and T-test to check the accuracy of our results of cleaning methods \n",
    "# we first import the statistics library for it and import stats module from scipy"
   ]
  },
  {
   "cell_type": "code",
   "execution_count": 201,
   "metadata": {},
   "outputs": [],
   "source": [
    "import statistics as stat\n",
    "from scipy import stats"
   ]
  },
  {
   "cell_type": "markdown",
   "metadata": {},
   "source": [
    "# Conduct t-test between the relevant columns and explain the result (it should make logical sense to conduct the test)"
   ]
  },
  {
   "cell_type": "code",
   "execution_count": 202,
   "metadata": {},
   "outputs": [
    {
     "data": {
      "text/plain": [
       "0       180\n",
       "1        90\n",
       "2         6\n",
       "3         1\n",
       "4         1\n",
       "       ... \n",
       "7902     17\n",
       "7903     17\n",
       "7904     17\n",
       "7905     17\n",
       "7906     17\n",
       "Name: minimum_nights, Length: 7907, dtype: int32"
      ]
     },
     "execution_count": 202,
     "metadata": {},
     "output_type": "execute_result"
    }
   ],
   "source": [
    "# first we shall conduct the t-test between \n",
    "# number_of_reviews and minimum_nights to test how much customers like spendinf time at each lodge and do more \n",
    "# nights being spent result in less satisfaction for customer\n",
    "df['number_of_reviews'].astype(int)\n",
    "df['minimum_nights'].astype(int)"
   ]
  },
  {
   "cell_type": "code",
   "execution_count": 203,
   "metadata": {},
   "outputs": [],
   "source": [
    "test = stats.ttest_ind(df['number_of_reviews'], df['minimum_nights'])"
   ]
  },
  {
   "cell_type": "code",
   "execution_count": 204,
   "metadata": {},
   "outputs": [
    {
     "name": "stdout",
     "output_type": "stream",
     "text": [
      "Ttest_indResult(statistic=-8.153013932202944, pvalue=3.8136852863122826e-16)\n"
     ]
    }
   ],
   "source": [
    "print(test)"
   ]
  },
  {
   "cell_type": "markdown",
   "metadata": {},
   "source": [
    " since the value is greater than 0.05 thus we fail to reject our null hypothesis that there is no difference\n",
    " and number of reviews and minimum_nights dont have a strong"
   ]
  },
  {
   "cell_type": "code",
   "execution_count": 205,
   "metadata": {},
   "outputs": [
    {
     "name": "stdout",
     "output_type": "stream",
     "text": [
      "Ttest_indResult(statistic=-115.41578866935224, pvalue=0.0)\n"
     ]
    }
   ],
   "source": [
    "# we now check it for minimum_nights and availibility_365\n",
    "test1 = stats.ttest_ind(df['minimum_nights'], df['availability_365'])\n",
    "print(test1)"
   ]
  },
  {
   "cell_type": "markdown",
   "metadata": {},
   "source": [
    " thus since here the value is less than 0.05 thus we can reject our null hypothesis of there being no difference \n",
    " and that minimum_nights and availibility_365 have a relationship as more customers spending nights does affect \n",
    " room availibility"
   ]
  },
  {
   "cell_type": "code",
   "execution_count": 216,
   "metadata": {},
   "outputs": [
    {
     "name": "stdout",
     "output_type": "stream",
     "text": [
      "Ttest_indResult(statistic=39.323322221931264, pvalue=0.0)\n"
     ]
    }
   ],
   "source": [
    "# we now check it for price and host_id\n",
    "test2 = stats.ttest_ind(df['price'], df['minimum_nights'])\n",
    "print(test2)"
   ]
  },
  {
   "cell_type": "markdown",
   "metadata": {},
   "source": [
    "thus with probability being less than 0.05 we reject our null hypothesis here, showing there is a relationship \n",
    "between price and how much customers are willing to stay on."
   ]
  },
  {
   "cell_type": "markdown",
   "metadata": {},
   "source": [
    "#   Conduct ANOVA (one-way, i.e., one string and one numerical column) between the relevant columns and explain the result (it should make logical sense to conduct the test)"
   ]
  },
  {
   "cell_type": "code",
   "execution_count": 219,
   "metadata": {},
   "outputs": [],
   "source": [
    "# we first create a list of all num_columns for ease of calculation\n",
    "num_cols = ['latitude','longitude','price','minimum_nights','number_of_reviews','reviews_per_month','calculated_host_listings_count','availability_365','Total_Amount_Paid']"
   ]
  },
  {
   "cell_type": "code",
   "execution_count": 228,
   "metadata": {},
   "outputs": [],
   "source": [
    "# we convert last_review to datetime to use it in the ANOVA test\n",
    "df['last_review'] = pd.to_datetime(df['last_review'])"
   ]
  },
  {
   "cell_type": "code",
   "execution_count": 233,
   "metadata": {},
   "outputs": [],
   "source": [
    "# now we start the ANOVA one_way test between 'last_review' and 'review_per_month'\n",
    "ANOVA_test = stats.f_oneway(df['last_review'],df['reviews_per_month'])"
   ]
  },
  {
   "cell_type": "code",
   "execution_count": 234,
   "metadata": {},
   "outputs": [
    {
     "name": "stdout",
     "output_type": "stream",
     "text": [
      "F_onewayResult(statistic=24922358.898263037, pvalue=0.0)\n"
     ]
    }
   ],
   "source": [
    "print(ANOVA_test)"
   ]
  },
  {
   "cell_type": "markdown",
   "metadata": {},
   "source": [
    "Thus having a p < 0.05 proves that we can reject our null hypothesis and prove with a 95% assurity \n",
    "that a difference in means exist betweem last_review and review_per_month thus making it hard for Airbnb stakeholders \n",
    "to deny that 'we are not receieving many customer reviews'"
   ]
  },
  {
   "cell_type": "code",
   "execution_count": 237,
   "metadata": {},
   "outputs": [],
   "source": [
    "# now we start the ANOVA one_way test between 'minimum_nights' and 'availibility_365'\n",
    "ANOVA_test2 = stats.f_oneway(df['minimum_nights'],df['availability_365'])"
   ]
  },
  {
   "cell_type": "code",
   "execution_count": 238,
   "metadata": {},
   "outputs": [
    {
     "name": "stdout",
     "output_type": "stream",
     "text": [
      "F_onewayResult(statistic=13320.804274168559, pvalue=0.0)\n"
     ]
    }
   ],
   "source": [
    "print(ANOVA_test2)"
   ]
  },
  {
   "cell_type": "markdown",
   "metadata": {},
   "source": [
    "Thus having a p < 0.05 proves that we can reject our null hypothesis and prove with a 95% assurity that a difference in means exist between minimum_nights and availability_365 thus making it easier for Airbnbs management to claim that customers spedning more nights is affecting space available for more customers throughout the year."
   ]
  },
  {
   "cell_type": "code",
   "execution_count": 243,
   "metadata": {},
   "outputs": [],
   "source": [
    "# now we start the ANOVA one_way test between 'minimum_nights' and 'availibility_365'\n",
    "ANOVA_test3 = stats.f_oneway(df['price'],df['calculated_host_listings_count'])"
   ]
  },
  {
   "cell_type": "code",
   "execution_count": 244,
   "metadata": {},
   "outputs": [
    {
     "name": "stdout",
     "output_type": "stream",
     "text": [
      "F_onewayResult(statistic=1093.3273786192103, pvalue=6.790458153231057e-232)\n"
     ]
    }
   ],
   "source": [
    "print(ANOVA_test3)"
   ]
  },
  {
   "cell_type": "markdown",
   "metadata": {},
   "source": [
    "Over here we fail to reject our null hypothesis as p > 0.05 proves the means are different betweem prices charged and calculated host lisitings. Thus proving that some hosts may be charging the same prices."
   ]
  },
  {
   "cell_type": "code",
   "execution_count": null,
   "metadata": {},
   "outputs": [],
   "source": []
  }
 ],
 "metadata": {
  "kernelspec": {
   "display_name": "Python 3",
   "language": "python",
   "name": "python3"
  },
  "language_info": {
   "codemirror_mode": {
    "name": "ipython",
    "version": 3
   },
   "file_extension": ".py",
   "mimetype": "text/x-python",
   "name": "python",
   "nbconvert_exporter": "python",
   "pygments_lexer": "ipython3",
   "version": "3.8.5"
  }
 },
 "nbformat": 4,
 "nbformat_minor": 4
}
