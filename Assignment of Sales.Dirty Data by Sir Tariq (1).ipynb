{
 "cells": [
  {
   "cell_type": "markdown",
   "metadata": {},
   "source": [
    "# Assignment of Sales.Dirty Data by Sir Tariq \n",
    "# Student: Muhammad Ammar Jamshed "
   ]
  },
  {
   "cell_type": "markdown",
   "metadata": {},
   "source": [
    "Tasks Assigned:\n",
    "    1) Try to detect all types of errors\n",
    "    2) Try to deal with as many errors as possible."
   ]
  },
  {
   "cell_type": "code",
   "execution_count": 1,
   "metadata": {},
   "outputs": [],
   "source": [
    "import numpy as np\n",
    "import pandas as pd\n",
    "import seaborn as sns\n",
    "import missingno as mn\n",
    "%matplotlib inline\n",
    "import matplotlib.pyplot as plot"
   ]
  },
  {
   "cell_type": "code",
   "execution_count": 2,
   "metadata": {},
   "outputs": [],
   "source": [
    "df = pd.read_excel(r\"C:\\Users\\muham\\Downloads\\Sales.Dirty.xls\")"
   ]
  },
  {
   "cell_type": "code",
   "execution_count": 3,
   "metadata": {},
   "outputs": [
    {
     "data": {
      "text/html": [
       "<div>\n",
       "<style scoped>\n",
       "    .dataframe tbody tr th:only-of-type {\n",
       "        vertical-align: middle;\n",
       "    }\n",
       "\n",
       "    .dataframe tbody tr th {\n",
       "        vertical-align: top;\n",
       "    }\n",
       "\n",
       "    .dataframe thead th {\n",
       "        text-align: right;\n",
       "    }\n",
       "</style>\n",
       "<table border=\"1\" class=\"dataframe\">\n",
       "  <thead>\n",
       "    <tr style=\"text-align: right;\">\n",
       "      <th></th>\n",
       "      <th>Row ID</th>\n",
       "      <th>Order ID</th>\n",
       "      <th>Order Date</th>\n",
       "      <th>Order Priority</th>\n",
       "      <th>Order Quantity</th>\n",
       "      <th>Sales</th>\n",
       "      <th>Discount</th>\n",
       "      <th>Ship Mode</th>\n",
       "      <th>Profit</th>\n",
       "      <th>Unit Price</th>\n",
       "      <th>Shipping Cost</th>\n",
       "      <th>Customer Name</th>\n",
       "      <th>Province</th>\n",
       "      <th>Region</th>\n",
       "      <th>Customer Segment</th>\n",
       "      <th>Product Category</th>\n",
       "      <th>Product Sub-Category</th>\n",
       "      <th>Product Name</th>\n",
       "      <th>Product Container</th>\n",
       "      <th>Ship Date</th>\n",
       "    </tr>\n",
       "  </thead>\n",
       "  <tbody>\n",
       "    <tr>\n",
       "      <th>0</th>\n",
       "      <td>1</td>\n",
       "      <td>3.0</td>\n",
       "      <td>Male</td>\n",
       "      <td>Low</td>\n",
       "      <td>6</td>\n",
       "      <td>261.54</td>\n",
       "      <td>0.04</td>\n",
       "      <td>Regular Air</td>\n",
       "      <td>-213.2500</td>\n",
       "      <td>38.94</td>\n",
       "      <td>35.00</td>\n",
       "      <td>25000</td>\n",
       "      <td>Nunavut</td>\n",
       "      <td>Nunavut</td>\n",
       "      <td>Small Business</td>\n",
       "      <td>Office Supplies</td>\n",
       "      <td>Storage &amp; Organization</td>\n",
       "      <td>Eldon Base for stackable storage shelf, platinum</td>\n",
       "      <td>Large Box</td>\n",
       "      <td>NaN</td>\n",
       "    </tr>\n",
       "    <tr>\n",
       "      <th>1</th>\n",
       "      <td>49</td>\n",
       "      <td>293.0</td>\n",
       "      <td>2012-10-01 00:00:00</td>\n",
       "      <td>High</td>\n",
       "      <td>49</td>\n",
       "      <td>10123</td>\n",
       "      <td>0.07</td>\n",
       "      <td>Delivery Truck</td>\n",
       "      <td>457.8100</td>\n",
       "      <td>208.16</td>\n",
       "      <td>68.02</td>\n",
       "      <td>Barry French</td>\n",
       "      <td>Nunavut</td>\n",
       "      <td>Nunavut</td>\n",
       "      <td>Consumer</td>\n",
       "      <td>Office Supplies</td>\n",
       "      <td>Appliances</td>\n",
       "      <td>1.7 Cubic Foot Compact \"Cube\" Office Refrigera...</td>\n",
       "      <td>Jumbo Drum</td>\n",
       "      <td>2012-10-02 00:00:00</td>\n",
       "    </tr>\n",
       "    <tr>\n",
       "      <th>2</th>\n",
       "      <td>50</td>\n",
       "      <td>293.0</td>\n",
       "      <td>2012-10-01 00:00:00</td>\n",
       "      <td>High</td>\n",
       "      <td>27</td>\n",
       "      <td>244.57</td>\n",
       "      <td>0.01</td>\n",
       "      <td>Regular Air</td>\n",
       "      <td>46.7075</td>\n",
       "      <td>8.69</td>\n",
       "      <td>2.99</td>\n",
       "      <td>Barry French</td>\n",
       "      <td>Nunavut</td>\n",
       "      <td>Nunavut</td>\n",
       "      <td>Consumer</td>\n",
       "      <td>Office Supplies</td>\n",
       "      <td>Binders and Binder Accessories</td>\n",
       "      <td>Cardinal Slant-D® Ring Binder, Heavy Gauge Vinyl</td>\n",
       "      <td>Small Box</td>\n",
       "      <td>2012-10-03 00:00:00</td>\n",
       "    </tr>\n",
       "    <tr>\n",
       "      <th>3</th>\n",
       "      <td>80</td>\n",
       "      <td>483.0</td>\n",
       "      <td>2011-07-10 00:00:00</td>\n",
       "      <td>High</td>\n",
       "      <td>30</td>\n",
       "      <td>4965.76</td>\n",
       "      <td>0.08</td>\n",
       "      <td>Regular Air</td>\n",
       "      <td>1198.9710</td>\n",
       "      <td>195.99</td>\n",
       "      <td>3.99</td>\n",
       "      <td>Clay Rozendal</td>\n",
       "      <td>Nunavut</td>\n",
       "      <td>Nunavut</td>\n",
       "      <td>Corporate</td>\n",
       "      <td>Technology</td>\n",
       "      <td>Telephones and Communication</td>\n",
       "      <td>R380</td>\n",
       "      <td>Small Box</td>\n",
       "      <td>2011-07-12 00:00:00</td>\n",
       "    </tr>\n",
       "    <tr>\n",
       "      <th>4</th>\n",
       "      <td>85</td>\n",
       "      <td>515.0</td>\n",
       "      <td>2010-08-28 00:00:00</td>\n",
       "      <td>Not Specified</td>\n",
       "      <td>19</td>\n",
       "      <td>394.27</td>\n",
       "      <td>0.08</td>\n",
       "      <td>Regular Air</td>\n",
       "      <td>30.9400</td>\n",
       "      <td>21.78</td>\n",
       "      <td>5.94</td>\n",
       "      <td>Carlos Soltero</td>\n",
       "      <td>Nunavut</td>\n",
       "      <td>Nunavut</td>\n",
       "      <td>Consumer</td>\n",
       "      <td>Office Supplies</td>\n",
       "      <td>Appliances</td>\n",
       "      <td>Holmes HEPA Air Purifier</td>\n",
       "      <td>Medium Box</td>\n",
       "      <td>2010-08-30 00:00:00</td>\n",
       "    </tr>\n",
       "    <tr>\n",
       "      <th>...</th>\n",
       "      <td>...</td>\n",
       "      <td>...</td>\n",
       "      <td>...</td>\n",
       "      <td>...</td>\n",
       "      <td>...</td>\n",
       "      <td>...</td>\n",
       "      <td>...</td>\n",
       "      <td>...</td>\n",
       "      <td>...</td>\n",
       "      <td>...</td>\n",
       "      <td>...</td>\n",
       "      <td>...</td>\n",
       "      <td>...</td>\n",
       "      <td>...</td>\n",
       "      <td>...</td>\n",
       "      <td>...</td>\n",
       "      <td>...</td>\n",
       "      <td>...</td>\n",
       "      <td>...</td>\n",
       "      <td>...</td>\n",
       "    </tr>\n",
       "    <tr>\n",
       "      <th>8394</th>\n",
       "      <td>7765</td>\n",
       "      <td>55558.0</td>\n",
       "      <td>2010-08-09 00:00:00</td>\n",
       "      <td>Medium</td>\n",
       "      <td>8</td>\n",
       "      <td>1294.04</td>\n",
       "      <td>0.05</td>\n",
       "      <td>Delivery Truck</td>\n",
       "      <td>-323.1800</td>\n",
       "      <td>150.98</td>\n",
       "      <td>66.27</td>\n",
       "      <td>Mick Brown</td>\n",
       "      <td>Alberta</td>\n",
       "      <td>West</td>\n",
       "      <td>Consumer</td>\n",
       "      <td>Furniture</td>\n",
       "      <td>Bookcases</td>\n",
       "      <td>Bush Mission Pointe Library</td>\n",
       "      <td>Jumbo Box</td>\n",
       "      <td>2010-08-09 00:00:00</td>\n",
       "    </tr>\n",
       "    <tr>\n",
       "      <th>8395</th>\n",
       "      <td>7766</td>\n",
       "      <td>55558.0</td>\n",
       "      <td>2010-08-09 00:00:00</td>\n",
       "      <td>Medium</td>\n",
       "      <td>23</td>\n",
       "      <td>392.57</td>\n",
       "      <td>0.04</td>\n",
       "      <td>Regular Air</td>\n",
       "      <td>22.2500</td>\n",
       "      <td>17.07</td>\n",
       "      <td>8.13</td>\n",
       "      <td>Mick Brown</td>\n",
       "      <td>Alberta</td>\n",
       "      <td>West</td>\n",
       "      <td>Consumer</td>\n",
       "      <td>Office Supplies</td>\n",
       "      <td>Envelopes</td>\n",
       "      <td>Recycled Interoffice Envelopes with Re-Use-A-S...</td>\n",
       "      <td>Small Box</td>\n",
       "      <td>2010-08-11 00:00:00</td>\n",
       "    </tr>\n",
       "    <tr>\n",
       "      <th>8396</th>\n",
       "      <td>7906</td>\n",
       "      <td>56550.0</td>\n",
       "      <td>2011-04-08 00:00:00</td>\n",
       "      <td>Not Specified</td>\n",
       "      <td>37</td>\n",
       "      <td>823.78</td>\n",
       "      <td>0.03</td>\n",
       "      <td>Express Air</td>\n",
       "      <td>343.0500</td>\n",
       "      <td>22.23</td>\n",
       "      <td>5.08</td>\n",
       "      <td>Frank Hawley</td>\n",
       "      <td>Alberta</td>\n",
       "      <td>West</td>\n",
       "      <td>Home Office</td>\n",
       "      <td>Furniture</td>\n",
       "      <td>Office Furnishings</td>\n",
       "      <td>Executive Impressions 14\"</td>\n",
       "      <td>Small Pack</td>\n",
       "      <td>2011-04-10 00:00:00</td>\n",
       "    </tr>\n",
       "    <tr>\n",
       "      <th>8397</th>\n",
       "      <td>7907</td>\n",
       "      <td>56550.0</td>\n",
       "      <td>2011-04-08 00:00:00</td>\n",
       "      <td>Not Specified</td>\n",
       "      <td>8</td>\n",
       "      <td>469.837</td>\n",
       "      <td>0.00</td>\n",
       "      <td>Regular Air</td>\n",
       "      <td>-159.2360</td>\n",
       "      <td>65.99</td>\n",
       "      <td>8.99</td>\n",
       "      <td>Frank Hawley</td>\n",
       "      <td>Alberta</td>\n",
       "      <td>West</td>\n",
       "      <td>Home Office</td>\n",
       "      <td>Technology</td>\n",
       "      <td>Telephones and Communication</td>\n",
       "      <td>Talkabout T8367</td>\n",
       "      <td>Small Box</td>\n",
       "      <td>2011-04-09 00:00:00</td>\n",
       "    </tr>\n",
       "    <tr>\n",
       "      <th>8398</th>\n",
       "      <td>7914</td>\n",
       "      <td>56581.0</td>\n",
       "      <td>2009-02-08 00:00:00</td>\n",
       "      <td>High</td>\n",
       "      <td>20</td>\n",
       "      <td>2026.01</td>\n",
       "      <td>0.10</td>\n",
       "      <td>Express Air</td>\n",
       "      <td>580.4300</td>\n",
       "      <td>105.98</td>\n",
       "      <td>13.99</td>\n",
       "      <td>Grant Donatelli</td>\n",
       "      <td>Alberta</td>\n",
       "      <td>West</td>\n",
       "      <td>Consumer</td>\n",
       "      <td>Furniture</td>\n",
       "      <td>Office Furnishings</td>\n",
       "      <td>Tenex 46\" x 60\" Computer Anti-Static Chairmat,...</td>\n",
       "      <td>Medium Box</td>\n",
       "      <td>2009-02-11 00:00:00</td>\n",
       "    </tr>\n",
       "  </tbody>\n",
       "</table>\n",
       "<p>8399 rows × 20 columns</p>\n",
       "</div>"
      ],
      "text/plain": [
       "      Row ID  Order ID           Order Date Order Priority Order Quantity  \\\n",
       "0          1       3.0                 Male            Low              6   \n",
       "1         49     293.0  2012-10-01 00:00:00           High             49   \n",
       "2         50     293.0  2012-10-01 00:00:00           High             27   \n",
       "3         80     483.0  2011-07-10 00:00:00           High             30   \n",
       "4         85     515.0  2010-08-28 00:00:00  Not Specified             19   \n",
       "...      ...       ...                  ...            ...            ...   \n",
       "8394    7765   55558.0  2010-08-09 00:00:00         Medium              8   \n",
       "8395    7766   55558.0  2010-08-09 00:00:00         Medium             23   \n",
       "8396    7906   56550.0  2011-04-08 00:00:00  Not Specified             37   \n",
       "8397    7907   56550.0  2011-04-08 00:00:00  Not Specified              8   \n",
       "8398    7914   56581.0  2009-02-08 00:00:00           High             20   \n",
       "\n",
       "        Sales  Discount       Ship Mode     Profit  Unit Price  Shipping Cost  \\\n",
       "0      261.54      0.04     Regular Air  -213.2500       38.94          35.00   \n",
       "1       10123      0.07  Delivery Truck   457.8100      208.16          68.02   \n",
       "2      244.57      0.01     Regular Air    46.7075        8.69           2.99   \n",
       "3     4965.76      0.08     Regular Air  1198.9710      195.99           3.99   \n",
       "4      394.27      0.08     Regular Air    30.9400       21.78           5.94   \n",
       "...       ...       ...             ...        ...         ...            ...   \n",
       "8394  1294.04      0.05  Delivery Truck  -323.1800      150.98          66.27   \n",
       "8395   392.57      0.04     Regular Air    22.2500       17.07           8.13   \n",
       "8396   823.78      0.03     Express Air   343.0500       22.23           5.08   \n",
       "8397  469.837      0.00     Regular Air  -159.2360       65.99           8.99   \n",
       "8398  2026.01      0.10     Express Air   580.4300      105.98          13.99   \n",
       "\n",
       "        Customer Name Province   Region Customer Segment Product Category  \\\n",
       "0               25000  Nunavut  Nunavut   Small Business  Office Supplies   \n",
       "1        Barry French  Nunavut  Nunavut         Consumer  Office Supplies   \n",
       "2        Barry French  Nunavut  Nunavut         Consumer  Office Supplies   \n",
       "3       Clay Rozendal  Nunavut  Nunavut        Corporate       Technology   \n",
       "4      Carlos Soltero  Nunavut  Nunavut         Consumer  Office Supplies   \n",
       "...               ...      ...      ...              ...              ...   \n",
       "8394       Mick Brown  Alberta     West         Consumer        Furniture   \n",
       "8395       Mick Brown  Alberta     West         Consumer  Office Supplies   \n",
       "8396     Frank Hawley  Alberta     West      Home Office        Furniture   \n",
       "8397     Frank Hawley  Alberta     West      Home Office       Technology   \n",
       "8398  Grant Donatelli  Alberta     West         Consumer        Furniture   \n",
       "\n",
       "                Product Sub-Category  \\\n",
       "0             Storage & Organization   \n",
       "1                         Appliances   \n",
       "2     Binders and Binder Accessories   \n",
       "3       Telephones and Communication   \n",
       "4                         Appliances   \n",
       "...                              ...   \n",
       "8394                       Bookcases   \n",
       "8395                       Envelopes   \n",
       "8396              Office Furnishings   \n",
       "8397    Telephones and Communication   \n",
       "8398              Office Furnishings   \n",
       "\n",
       "                                           Product Name Product Container  \\\n",
       "0      Eldon Base for stackable storage shelf, platinum         Large Box   \n",
       "1     1.7 Cubic Foot Compact \"Cube\" Office Refrigera...        Jumbo Drum   \n",
       "2      Cardinal Slant-D® Ring Binder, Heavy Gauge Vinyl         Small Box   \n",
       "3                                                  R380         Small Box   \n",
       "4                              Holmes HEPA Air Purifier        Medium Box   \n",
       "...                                                 ...               ...   \n",
       "8394                        Bush Mission Pointe Library         Jumbo Box   \n",
       "8395  Recycled Interoffice Envelopes with Re-Use-A-S...         Small Box   \n",
       "8396                          Executive Impressions 14\"        Small Pack   \n",
       "8397                                    Talkabout T8367         Small Box   \n",
       "8398  Tenex 46\" x 60\" Computer Anti-Static Chairmat,...        Medium Box   \n",
       "\n",
       "                Ship Date  \n",
       "0                     NaN  \n",
       "1     2012-10-02 00:00:00  \n",
       "2     2012-10-03 00:00:00  \n",
       "3     2011-07-12 00:00:00  \n",
       "4     2010-08-30 00:00:00  \n",
       "...                   ...  \n",
       "8394  2010-08-09 00:00:00  \n",
       "8395  2010-08-11 00:00:00  \n",
       "8396  2011-04-10 00:00:00  \n",
       "8397  2011-04-09 00:00:00  \n",
       "8398  2009-02-11 00:00:00  \n",
       "\n",
       "[8399 rows x 20 columns]"
      ]
     },
     "execution_count": 3,
     "metadata": {},
     "output_type": "execute_result"
    }
   ],
   "source": [
    "df"
   ]
  },
  {
   "cell_type": "code",
   "execution_count": 4,
   "metadata": {},
   "outputs": [
    {
     "data": {
      "text/plain": [
       "<matplotlib.axes._subplots.AxesSubplot at 0x1cf86923520>"
      ]
     },
     "execution_count": 4,
     "metadata": {},
     "output_type": "execute_result"
    },
    {
     "data": {
      "image/png": "[encoded data removed]",
      "text/plain": [
       "<Figure size 1728x720 with 3 Axes>"
      ]
     },
     "metadata": {
      "needs_background": "light"
     },
     "output_type": "display_data"
    }
   ],
   "source": [
    "# lets check the missing values first\n",
    "mn.bar(df)"
   ]
  },
  {
   "cell_type": "code",
   "execution_count": 5,
   "metadata": {},
   "outputs": [
    {
     "data": {
      "text/plain": [
       "<matplotlib.axes._subplots.AxesSubplot at 0x1cf86392d90>"
      ]
     },
     "execution_count": 5,
     "metadata": {},
     "output_type": "execute_result"
    },
    {
     "data": {
      "image/png": "[encoded data removed]",
      "text/plain": [
       "<Figure size 1440x864 with 2 Axes>"
      ]
     },
     "metadata": {
      "needs_background": "light"
     },
     "output_type": "display_data"
    }
   ],
   "source": [
    "mn.heatmap(df)"
   ]
  },
  {
   "cell_type": "code",
   "execution_count": 6,
   "metadata": {},
   "outputs": [
    {
     "data": {
      "text/plain": [
       "Row ID                    int64\n",
       "Order ID                float64\n",
       "Order Date               object\n",
       "Order Priority           object\n",
       "Order Quantity           object\n",
       "Sales                    object\n",
       "Discount                float64\n",
       "Ship Mode                object\n",
       "Profit                  float64\n",
       "Unit Price              float64\n",
       "Shipping Cost           float64\n",
       "Customer Name            object\n",
       "Province                 object\n",
       "Region                   object\n",
       "Customer Segment         object\n",
       "Product Category         object\n",
       "Product Sub-Category     object\n",
       "Product Name             object\n",
       "Product Container        object\n",
       "Ship Date                object\n",
       "dtype: object"
      ]
     },
     "execution_count": 6,
     "metadata": {},
     "output_type": "execute_result"
    }
   ],
   "source": [
    "# we first check all the datatypes in the file\n",
    "df.dtypes"
   ]
  },
  {
   "cell_type": "code",
   "execution_count": 7,
   "metadata": {},
   "outputs": [
    {
     "name": "stdout",
     "output_type": "stream",
     "text": [
      "<class 'pandas.core.frame.DataFrame'>\n",
      "RangeIndex: 8399 entries, 0 to 8398\n",
      "Data columns (total 20 columns):\n",
      " #   Column                Non-Null Count  Dtype  \n",
      "---  ------                --------------  -----  \n",
      " 0   Row ID                8399 non-null   int64  \n",
      " 1   Order ID              7854 non-null   float64\n",
      " 2   Order Date            8390 non-null   object \n",
      " 3   Order Priority        8387 non-null   object \n",
      " 4   Order Quantity        8399 non-null   object \n",
      " 5   Sales                 8380 non-null   object \n",
      " 6   Discount              8399 non-null   float64\n",
      " 7   Ship Mode             8395 non-null   object \n",
      " 8   Profit                8399 non-null   float64\n",
      " 9   Unit Price            8399 non-null   float64\n",
      " 10  Shipping Cost         8399 non-null   float64\n",
      " 11  Customer Name         8399 non-null   object \n",
      " 12  Province              8399 non-null   object \n",
      " 13  Region                8369 non-null   object \n",
      " 14  Customer Segment      8399 non-null   object \n",
      " 15  Product Category      8368 non-null   object \n",
      " 16  Product Sub-Category  8399 non-null   object \n",
      " 17  Product Name          8386 non-null   object \n",
      " 18  Product Container     8384 non-null   object \n",
      " 19  Ship Date             8387 non-null   object \n",
      "dtypes: float64(5), int64(1), object(14)\n",
      "memory usage: 1.3+ MB\n"
     ]
    }
   ],
   "source": [
    "# we check the total rows and columns \n",
    "df.info()"
   ]
  },
  {
   "cell_type": "code",
   "execution_count": 8,
   "metadata": {},
   "outputs": [
    {
     "data": {
      "text/plain": [
       "Row ID                    0\n",
       "Order ID                545\n",
       "Order Date                9\n",
       "Order Priority           12\n",
       "Order Quantity            0\n",
       "Sales                    19\n",
       "Discount                  0\n",
       "Ship Mode                 4\n",
       "Profit                    0\n",
       "Unit Price                0\n",
       "Shipping Cost             0\n",
       "Customer Name             0\n",
       "Province                  0\n",
       "Region                   30\n",
       "Customer Segment          0\n",
       "Product Category         31\n",
       "Product Sub-Category      0\n",
       "Product Name             13\n",
       "Product Container        15\n",
       "Ship Date                12\n",
       "dtype: int64"
      ]
     },
     "execution_count": 8,
     "metadata": {},
     "output_type": "execute_result"
    }
   ],
   "source": [
    "# we now check the null values present in total\n",
    "df.isnull().sum()"
   ]
  },
  {
   "cell_type": "markdown",
   "metadata": {},
   "source": [
    "# Order Date"
   ]
  },
  {
   "cell_type": "markdown",
   "metadata": {},
   "source": [
    "So as stated here we have to clean the null values of Order ID, Order Priority, Order Date, Ship Mode, Region, Product category, product name, product Container and ship date"
   ]
  },
  {
   "cell_type": "code",
   "execution_count": 9,
   "metadata": {},
   "outputs": [],
   "source": [
    "# we shall first get rid of the incorrect values THAT HAVE BEEN CAUSED BY DATA RNTRY ERRORS\n",
    "df[\"Order Date\"].replace({\"Male\":\"2012-10-01 00:00:00\"}, inplace = True)"
   ]
  },
  {
   "cell_type": "code",
   "execution_count": 10,
   "metadata": {},
   "outputs": [
    {
     "data": {
      "text/html": [
       "<div>\n",
       "<style scoped>\n",
       "    .dataframe tbody tr th:only-of-type {\n",
       "        vertical-align: middle;\n",
       "    }\n",
       "\n",
       "    .dataframe tbody tr th {\n",
       "        vertical-align: top;\n",
       "    }\n",
       "\n",
       "    .dataframe thead th {\n",
       "        text-align: right;\n",
       "    }\n",
       "</style>\n",
       "<table border=\"1\" class=\"dataframe\">\n",
       "  <thead>\n",
       "    <tr style=\"text-align: right;\">\n",
       "      <th></th>\n",
       "      <th>Order Date</th>\n",
       "    </tr>\n",
       "  </thead>\n",
       "  <tbody>\n",
       "    <tr>\n",
       "      <th>0</th>\n",
       "      <td>Female</td>\n",
       "    </tr>\n",
       "  </tbody>\n",
       "</table>\n",
       "</div>"
      ],
      "text/plain": [
       "  Order Date\n",
       "0     Female"
      ]
     },
     "execution_count": 10,
     "metadata": {},
     "output_type": "execute_result"
    }
   ],
   "source": [
    "pd.DataFrame({\"Order Date\": [\"Female\"]})"
   ]
  },
  {
   "cell_type": "code",
   "execution_count": 11,
   "metadata": {},
   "outputs": [],
   "source": [
    "df[\"Order Date\"].replace({\"Female\":\"2012-10-01 00:00:00\"}, inplace = True)"
   ]
  },
  {
   "cell_type": "code",
   "execution_count": 12,
   "metadata": {},
   "outputs": [
    {
     "data": {
      "text/plain": [
       "2011-09-15    20\n",
       "2012-03-28    20\n",
       "2010-12-12    18\n",
       "2010-04-20    17\n",
       "2011-11-19    17\n",
       "              ..\n",
       "2009-10-26     1\n",
       "2012-02-20     1\n",
       "2011-09-17     1\n",
       "2012-12-22     1\n",
       "2012-07-06     1\n",
       "Name: Order Date, Length: 1420, dtype: int64"
      ]
     },
     "execution_count": 12,
     "metadata": {},
     "output_type": "execute_result"
    }
   ],
   "source": [
    "df[\"Order Date\"].value_counts()"
   ]
  },
  {
   "cell_type": "markdown",
   "metadata": {},
   "source": [
    " thus we have removed the errors"
   ]
  },
  {
   "cell_type": "code",
   "execution_count": 13,
   "metadata": {},
   "outputs": [],
   "source": [
    "# thus we now replace all false values with the mode as the most common order according to related variables such order ID\n",
    "df['Order Date'].fillna(df['Order Date'].mode, inplace= True)"
   ]
  },
  {
   "cell_type": "code",
   "execution_count": 14,
   "metadata": {},
   "outputs": [
    {
     "data": {
      "text/plain": [
       "0"
      ]
     },
     "execution_count": 14,
     "metadata": {},
     "output_type": "execute_result"
    }
   ],
   "source": [
    "df['Order Date'].isnull().sum()"
   ]
  },
  {
   "cell_type": "markdown",
   "metadata": {},
   "source": [
    "# Order ID"
   ]
  },
  {
   "cell_type": "code",
   "execution_count": 15,
   "metadata": {},
   "outputs": [
    {
     "data": {
      "text/plain": [
       "545"
      ]
     },
     "execution_count": 15,
     "metadata": {},
     "output_type": "execute_result"
    }
   ],
   "source": [
    "df['Order ID'].isnull().sum()"
   ]
  },
  {
   "cell_type": "code",
   "execution_count": 16,
   "metadata": {},
   "outputs": [],
   "source": [
    "# we shall also Fill Order ID using Mode as its how the ones ordering the most will will the values with theri IDs\n",
    "df['Order ID'].fillna(df['Order ID'].mode, inplace= True)"
   ]
  },
  {
   "cell_type": "code",
   "execution_count": 17,
   "metadata": {},
   "outputs": [
    {
     "data": {
      "text/plain": [
       "0"
      ]
     },
     "execution_count": 17,
     "metadata": {},
     "output_type": "execute_result"
    }
   ],
   "source": [
    "# now lets check if that succeeded \n",
    "df['Order ID'].isnull().sum()"
   ]
  },
  {
   "cell_type": "markdown",
   "metadata": {},
   "source": [
    "Thus we have filled Order ID as well"
   ]
  },
  {
   "cell_type": "markdown",
   "metadata": {},
   "source": [
    "# Order Priority"
   ]
  },
  {
   "cell_type": "code",
   "execution_count": 18,
   "metadata": {},
   "outputs": [
    {
     "data": {
      "text/plain": [
       "<matplotlib.axes._subplots.AxesSubplot at 0x1cf86429d30>"
      ]
     },
     "execution_count": 18,
     "metadata": {},
     "output_type": "execute_result"
    },
    {
     "data": {
      "image/png": "[encoded data removed]",
      "text/plain": [
       "<Figure size 432x288 with 1 Axes>"
      ]
     },
     "metadata": {
      "needs_background": "light"
     },
     "output_type": "display_data"
    }
   ],
   "source": [
    "# lETS TAKE A LOOK AT ALL VALUES IN THIS COLUMN\n",
    "df['Order Priority'].hist()"
   ]
  },
  {
   "cell_type": "code",
   "execution_count": 19,
   "metadata": {},
   "outputs": [
    {
     "data": {
      "text/plain": [
       "0       False\n",
       "1       False\n",
       "2       False\n",
       "3       False\n",
       "4       False\n",
       "        ...  \n",
       "8394    False\n",
       "8395    False\n",
       "8396    False\n",
       "8397    False\n",
       "8398    False\n",
       "Name: Order Priority, Length: 8399, dtype: bool"
      ]
     },
     "execution_count": 19,
     "metadata": {},
     "output_type": "execute_result"
    }
   ],
   "source": [
    "# we check the null values needing to be filled \n",
    "df['Order Priority'].isnull()"
   ]
  },
  {
   "cell_type": "code",
   "execution_count": 20,
   "metadata": {},
   "outputs": [],
   "source": [
    "# we use mode to fill the null values as mors prioritised order should accuratelty indicate\n",
    "# a suitable form of data for replacement for the companies business activities to improve its sales effeciency\n",
    "df['Order Priority'].fillna(df['Order Priority'].mode, inplace=True)"
   ]
  },
  {
   "cell_type": "code",
   "execution_count": 21,
   "metadata": {},
   "outputs": [
    {
     "data": {
      "text/plain": [
       "0"
      ]
     },
     "execution_count": 21,
     "metadata": {},
     "output_type": "execute_result"
    }
   ],
   "source": [
    "# Now to check if we succeded in removing Null values \n",
    "df['Order Priority'].isnull().sum()"
   ]
  },
  {
   "cell_type": "markdown",
   "metadata": {},
   "source": [
    "Thus we succeeded in fill the null values in Order Priority"
   ]
  },
  {
   "cell_type": "markdown",
   "metadata": {},
   "source": [
    "# Sales"
   ]
  },
  {
   "cell_type": "code",
   "execution_count": 22,
   "metadata": {},
   "outputs": [
    {
     "data": {
      "text/plain": [
       "Bad        9\n",
       "19.36      3\n",
       "74.02      3\n",
       "46.94      3\n",
       "127.56     3\n",
       "          ..\n",
       "999.89     1\n",
       "91.15      1\n",
       "181.95     1\n",
       "2860.93    1\n",
       "2039.39    1\n",
       "Name: Sales, Length: 8129, dtype: int64"
      ]
     },
     "execution_count": 22,
     "metadata": {},
     "output_type": "execute_result"
    }
   ],
   "source": [
    "# now lets check for any data entry errors in sales\n",
    "df['Sales'].value_counts()"
   ]
  },
  {
   "cell_type": "code",
   "execution_count": 23,
   "metadata": {},
   "outputs": [
    {
     "data": {
      "text/plain": [
       "<bound method Series.mean of 0        261.54\n",
       "1         10123\n",
       "2        244.57\n",
       "3       4965.76\n",
       "4        394.27\n",
       "         ...   \n",
       "8394    1294.04\n",
       "8395     392.57\n",
       "8396     823.78\n",
       "8397    469.837\n",
       "8398    2026.01\n",
       "Name: Sales, Length: 8399, dtype: object>"
      ]
     },
     "execution_count": 23,
     "metadata": {},
     "output_type": "execute_result"
    }
   ],
   "source": [
    "# Thus w have a data entry error in sales called 'Bad'\n",
    "# thus we remove it with the average of sale called the mean, as that is suitaabel\n",
    "# because it indicates how much is sold on a standard level assuming no external disruptions\n",
    "df[\"Sales\"].mean"
   ]
  },
  {
   "cell_type": "code",
   "execution_count": 24,
   "metadata": {},
   "outputs": [],
   "source": [
    "df[\"Sales\"].replace({\"Bad\":\"261.54\"}, inplace=True)"
   ]
  },
  {
   "cell_type": "code",
   "execution_count": 25,
   "metadata": {},
   "outputs": [
    {
     "data": {
      "text/plain": [
       "261.54     9\n",
       "127.56     3\n",
       "75.19      3\n",
       "115.81     3\n",
       "10.48      3\n",
       "          ..\n",
       "999.89     1\n",
       "91.15      1\n",
       "181.95     1\n",
       "2860.93    1\n",
       "2039.39    1\n",
       "Name: Sales, Length: 8129, dtype: int64"
      ]
     },
     "execution_count": 25,
     "metadata": {},
     "output_type": "execute_result"
    }
   ],
   "source": [
    "# now lets see if we succeeded \n",
    "df['Sales'].value_counts()"
   ]
  },
  {
   "cell_type": "code",
   "execution_count": 26,
   "metadata": {},
   "outputs": [
    {
     "data": {
      "text/plain": [
       "19"
      ]
     },
     "execution_count": 26,
     "metadata": {},
     "output_type": "execute_result"
    }
   ],
   "source": [
    "# now we remove all null values as we have corrected the error\n",
    "df['Sales'].isnull().sum()"
   ]
  },
  {
   "cell_type": "code",
   "execution_count": 27,
   "metadata": {},
   "outputs": [],
   "source": [
    "# we fill all null values with the previous  calculated average as well \n",
    "df['Sales'].fillna(261.54,inplace=True)"
   ]
  },
  {
   "cell_type": "code",
   "execution_count": 28,
   "metadata": {},
   "outputs": [
    {
     "data": {
      "text/plain": [
       "0"
      ]
     },
     "execution_count": 28,
     "metadata": {},
     "output_type": "execute_result"
    }
   ],
   "source": [
    "# we test the success\n",
    "df['Sales'].isnull().sum()"
   ]
  },
  {
   "cell_type": "code",
   "execution_count": 29,
   "metadata": {},
   "outputs": [
    {
     "data": {
      "text/plain": [
       "Row ID                   0\n",
       "Order ID                 0\n",
       "Order Date               0\n",
       "Order Priority           0\n",
       "Order Quantity           0\n",
       "Sales                    0\n",
       "Discount                 0\n",
       "Ship Mode                4\n",
       "Profit                   0\n",
       "Unit Price               0\n",
       "Shipping Cost            0\n",
       "Customer Name            0\n",
       "Province                 0\n",
       "Region                  30\n",
       "Customer Segment         0\n",
       "Product Category        31\n",
       "Product Sub-Category     0\n",
       "Product Name            13\n",
       "Product Container       15\n",
       "Ship Date               12\n",
       "dtype: int64"
      ]
     },
     "execution_count": 29,
     "metadata": {},
     "output_type": "execute_result"
    }
   ],
   "source": [
    "# we now see all the null values remaining \n",
    "df.isnull().sum()"
   ]
  },
  {
   "cell_type": "markdown",
   "metadata": {},
   "source": [
    "# Ship Mode"
   ]
  },
  {
   "cell_type": "code",
   "execution_count": 30,
   "metadata": {},
   "outputs": [
    {
     "data": {
      "text/plain": [
       "Regular Air       6268\n",
       "Delivery Truck    1146\n",
       "Express Air        981\n",
       "Name: Ship Mode, dtype: int64"
      ]
     },
     "execution_count": 30,
     "metadata": {},
     "output_type": "execute_result"
    }
   ],
   "source": [
    "# lets see if there is any error in the data of Ship Mode\n",
    "df['Ship Mode'].value_counts()"
   ]
  },
  {
   "cell_type": "code",
   "execution_count": 35,
   "metadata": {},
   "outputs": [
    {
     "data": {
      "text/plain": [
       "0       False\n",
       "1       False\n",
       "2       False\n",
       "3       False\n",
       "4       False\n",
       "        ...  \n",
       "8394    False\n",
       "8395    False\n",
       "8396    False\n",
       "8397    False\n",
       "8398    False\n",
       "Name: Ship Mode, Length: 8399, dtype: bool"
      ]
     },
     "execution_count": 35,
     "metadata": {},
     "output_type": "execute_result"
    }
   ],
   "source": [
    "# since there is no error we now check the null values \n",
    "df['Ship Mode'].isnull()"
   ]
  },
  {
   "cell_type": "code",
   "execution_count": 36,
   "metadata": {},
   "outputs": [],
   "source": [
    "# we shall fill the remaining values with Regular Air \n",
    "df['Ship Mode'].fillna('Regular Air', inplace=True)"
   ]
  },
  {
   "cell_type": "code",
   "execution_count": 37,
   "metadata": {},
   "outputs": [
    {
     "data": {
      "text/plain": [
       "0"
      ]
     },
     "execution_count": 37,
     "metadata": {},
     "output_type": "execute_result"
    }
   ],
   "source": [
    "# we shall now See if the null values have beeen filled\n",
    "df['Ship Mode'].isnull().sum()"
   ]
  },
  {
   "cell_type": "markdown",
   "metadata": {},
   "source": [
    "# Region"
   ]
  },
  {
   "cell_type": "code",
   "execution_count": 54,
   "metadata": {},
   "outputs": [
    {
     "data": {
      "text/plain": [
       "False    8369\n",
       "True       30\n",
       "Name: Region, dtype: int64"
      ]
     },
     "execution_count": 54,
     "metadata": {},
     "output_type": "execute_result"
    }
   ],
   "source": [
    "# we shall now test any issues with Region\n",
    "df['Region'].isnull().value_counts()"
   ]
  },
  {
   "cell_type": "code",
   "execution_count": 51,
   "metadata": {},
   "outputs": [
    {
     "data": {
      "text/plain": [
       "Saskachewan    18\n",
       "Quebec         12\n",
       "Name: Province, dtype: int64"
      ]
     },
     "execution_count": 51,
     "metadata": {},
     "output_type": "execute_result"
    }
   ],
   "source": [
    "# since there is no data entry error here we shall clean the column\n",
    "# replacing Region Values with Province\n",
    "df[df['Region'].isnull()]['Province'].value_counts()"
   ]
  },
  {
   "cell_type": "code",
   "execution_count": 57,
   "metadata": {},
   "outputs": [],
   "source": [
    "# THUS LETS FILL Saskachewan missing values with Saskachewan\n",
    "cond = (df['Province'] == 'Quebec') & (df['Region'].isnull())\n",
    "df.loc[cond, 'Region'] = 'Quebec'\n",
    "cond1 = (df['Province'] == 'Saskachewan') & (df['Region'].isnull())\n",
    "df.loc[cond1, 'Region'] = 'Saskachewan'"
   ]
  },
  {
   "cell_type": "code",
   "execution_count": 59,
   "metadata": {},
   "outputs": [
    {
     "data": {
      "text/plain": [
       "0"
      ]
     },
     "execution_count": 59,
     "metadata": {},
     "output_type": "execute_result"
    }
   ],
   "source": [
    "# now we test if the null values have been filled\n",
    "df['Region'].isnull().sum()"
   ]
  },
  {
   "cell_type": "code",
   "execution_count": 48,
   "metadata": {},
   "outputs": [
    {
     "data": {
      "text/plain": [
       "Ontario                  1826\n",
       "British Columbia         1126\n",
       "Saskachewan               913\n",
       "Alberta                   865\n",
       "Manitoba                  793\n",
       "Quebec                    781\n",
       "Yukon                     542\n",
       "Nova Scotia               464\n",
       "Northwest Territories     394\n",
       "New Brunswick             323\n",
       "Prince Edward Island      211\n",
       "Newfoundland               82\n",
       "Nunavut                    79\n",
       "Name: Province, dtype: int64"
      ]
     },
     "execution_count": 48,
     "metadata": {},
     "output_type": "execute_result"
    }
   ],
   "source": [
    "df['Province'].value_counts()"
   ]
  },
  {
   "cell_type": "code",
   "execution_count": 62,
   "metadata": {},
   "outputs": [
    {
     "data": {
      "text/plain": [
       "Row ID                   0\n",
       "Order ID                 0\n",
       "Order Date               0\n",
       "Order Priority           0\n",
       "Order Quantity           0\n",
       "Sales                    0\n",
       "Discount                 0\n",
       "Ship Mode                0\n",
       "Profit                   0\n",
       "Unit Price               0\n",
       "Shipping Cost            0\n",
       "Customer Name            0\n",
       "Province                 0\n",
       "Region                   0\n",
       "Customer Segment         0\n",
       "Product Category        31\n",
       "Product Sub-Category     0\n",
       "Product Name            13\n",
       "Product Container       15\n",
       "Ship Date               12\n",
       "dtype: int64"
      ]
     },
     "execution_count": 62,
     "metadata": {},
     "output_type": "execute_result"
    }
   ],
   "source": [
    "# now checking the remaining columns with errors and missing values\n",
    "df.isnull().sum()"
   ]
  },
  {
   "cell_type": "markdown",
   "metadata": {},
   "source": [
    "# Product Category"
   ]
  },
  {
   "cell_type": "code",
   "execution_count": 63,
   "metadata": {},
   "outputs": [
    {
     "data": {
      "text/plain": [
       "Office Supplies    4592\n",
       "Technology         2059\n",
       "Furniture          1717\n",
       "Name: Product Category, dtype: int64"
      ]
     },
     "execution_count": 63,
     "metadata": {},
     "output_type": "execute_result"
    }
   ],
   "source": [
    "df['Product Category'].value_counts()"
   ]
  },
  {
   "cell_type": "code",
   "execution_count": 66,
   "metadata": {},
   "outputs": [
    {
     "data": {
      "text/plain": [
       "False    8368\n",
       "True       31\n",
       "Name: Product Category, dtype: int64"
      ]
     },
     "execution_count": 66,
     "metadata": {},
     "output_type": "execute_result"
    }
   ],
   "source": [
    "# thus no data errors so we shall start filling in the missing values\n",
    "df['Product Category'].isnull().value_counts()"
   ]
  },
  {
   "cell_type": "code",
   "execution_count": 74,
   "metadata": {},
   "outputs": [
    {
     "data": {
      "text/plain": [
       "Chairs & Chairmats                4\n",
       "Paper                             4\n",
       "Envelopes                         3\n",
       "Binders and Binder Accessories    3\n",
       "Computer Peripherals              3\n",
       "Appliances                        2\n",
       "Office Furnishings                2\n",
       "Office Machines                   2\n",
       "Pens & Art Supplies               2\n",
       "Scissors, Rulers and Trimmers     2\n",
       "Labels                            1\n",
       "Tables                            1\n",
       "Storage & Organization            1\n",
       "Telephones and Communication      1\n",
       "Name: Product Sub-Category, dtype: int64"
      ]
     },
     "execution_count": 74,
     "metadata": {},
     "output_type": "execute_result"
    }
   ],
   "source": [
    "# we shall replace missing values of the product categoris with sub category \n",
    "# as we can still identify the nature of product at hand that way\n",
    "df[df['Product Category'].isnull()]['Product Sub-Category'].value_counts()"
   ]
  },
  {
   "cell_type": "code",
   "execution_count": 83,
   "metadata": {},
   "outputs": [
    {
     "data": {
      "text/plain": [
       "31"
      ]
     },
     "execution_count": 83,
     "metadata": {},
     "output_type": "execute_result"
    }
   ],
   "source": [
    "# lets test if the null values have been removed \n",
    "df['Product Category'].isnull().sum()"
   ]
  },
  {
   "cell_type": "code",
   "execution_count": 87,
   "metadata": {},
   "outputs": [],
   "source": [
    "# since other methods like loc and regex arent working, we shall just rely on mode according to each subcategory\n",
    "df['Product Category'].fillna(df['Product Category'].mode, inplace=True)"
   ]
  },
  {
   "cell_type": "code",
   "execution_count": 88,
   "metadata": {},
   "outputs": [
    {
     "data": {
      "text/plain": [
       "Row ID                   0\n",
       "Order ID                 0\n",
       "Order Date               0\n",
       "Order Priority           0\n",
       "Order Quantity           0\n",
       "Sales                    0\n",
       "Discount                 0\n",
       "Ship Mode                0\n",
       "Profit                   0\n",
       "Unit Price               0\n",
       "Shipping Cost            0\n",
       "Customer Name            0\n",
       "Province                 0\n",
       "Region                   0\n",
       "Customer Segment         0\n",
       "Product Category         0\n",
       "Product Sub-Category     0\n",
       "Product Name            13\n",
       "Product Container       15\n",
       "Ship Date               12\n",
       "dtype: int64"
      ]
     },
     "execution_count": 88,
     "metadata": {},
     "output_type": "execute_result"
    }
   ],
   "source": [
    "df.apply(lambda x: sum(x.isnull()),axis=0)"
   ]
  },
  {
   "cell_type": "markdown",
   "metadata": {},
   "source": [
    "# we shall check for errors in the last three columns left Product Name            \n",
    "# Product Container      \n",
    "# Ship Date   "
   ]
  },
  {
   "cell_type": "code",
   "execution_count": 94,
   "metadata": {},
   "outputs": [
    {
     "data": {
      "text/plain": [
       "2011-05-21    19\n",
       "2012-03-30    16\n",
       "2009-10-09    16\n",
       "2009-04-11    16\n",
       "2009-03-28    15\n",
       "              ..\n",
       "2011-08-28     1\n",
       "2009-06-15     1\n",
       "2010-12-31     1\n",
       "2010-07-15     1\n",
       "2011-05-17     1\n",
       "Name: Ship Date, Length: 1459, dtype: int64"
      ]
     },
     "execution_count": 94,
     "metadata": {},
     "output_type": "execute_result"
    }
   ],
   "source": [
    "df['Ship Date'].value_counts()"
   ]
  },
  {
   "cell_type": "markdown",
   "metadata": {},
   "source": [
    " no errors found"
   ]
  },
  {
   "cell_type": "code",
   "execution_count": 95,
   "metadata": {},
   "outputs": [],
   "source": [
    "# since no data entry error has been identied here, we shall just use the mode to fill this as well, since the most shipping dates \n",
    "#  availabe are fairly accurate in terms of checking product arrival as product arrival has to be of a recent date in most cases\n",
    "# of when records are constructed\n",
    "df['Ship Date'].fillna(df['Ship Date'].mode, inplace=True)"
   ]
  },
  {
   "cell_type": "code",
   "execution_count": 96,
   "metadata": {},
   "outputs": [
    {
     "data": {
      "text/plain": [
       "0"
      ]
     },
     "execution_count": 96,
     "metadata": {},
     "output_type": "execute_result"
    }
   ],
   "source": [
    "# we test if the null values have been removed\n",
    "df['Ship Date'].isnull().sum()"
   ]
  },
  {
   "cell_type": "code",
   "execution_count": 97,
   "metadata": {},
   "outputs": [
    {
     "data": {
      "text/plain": [
       "Small Box     4341\n",
       "Wrap Bag      1165\n",
       "Small Pack     955\n",
       "Jumbo Drum     622\n",
       "Jumbo Box      532\n",
       "Large Box      405\n",
       "Medium Box     364\n",
       "Name: Product Container, dtype: int64"
      ]
     },
     "execution_count": 97,
     "metadata": {},
     "output_type": "execute_result"
    }
   ],
   "source": [
    "# now we check for any errors in Product Container\n",
    "df['Product Container'].value_counts()"
   ]
  },
  {
   "cell_type": "markdown",
   "metadata": {},
   "source": [
    "no errors found"
   ]
  },
  {
   "cell_type": "code",
   "execution_count": 93,
   "metadata": {},
   "outputs": [
    {
     "data": {
      "text/plain": [
       "Global High-Back Leather Tilter, Burgundy                            24\n",
       "Master Giant Foot® Doorstop, Safety Yellow                           22\n",
       "Bevis 36 x 72 Conference Tables                                      22\n",
       "BoxOffice By Design Rectangular and Half-Moon Meeting Room Tables    22\n",
       "Fiskars® Softgrip Scissors                                           22\n",
       "                                                                     ..\n",
       "Xerox 1883                                                            1\n",
       "Hewlett Packard 610 Color Digital Copier / Printer                    1\n",
       "Wilson Jones Standard D-Ring Binders                                  1\n",
       "Sanford Uni-Blazer™ View Highlighters, Chisel Tip, Yellow             1\n",
       "Electrix Incandescent Magnifying Lamp, Black                          1\n",
       "Name: Product Name, Length: 1263, dtype: int64"
      ]
     },
     "execution_count": 93,
     "metadata": {},
     "output_type": "execute_result"
    }
   ],
   "source": [
    "# now we check for any errors in Product Name\n",
    "df['Product Name'].value_counts()"
   ]
  },
  {
   "cell_type": "markdown",
   "metadata": {},
   "source": [
    "no errors found"
   ]
  },
  {
   "cell_type": "code",
   "execution_count": 98,
   "metadata": {},
   "outputs": [],
   "source": [
    "# we now replace Product name and container with the mode, as there is no reliable numerical measure to calculate the accuracy \n",
    " # of which container belongs to whom or what someones name should have been\n",
    "df['Product Name'].fillna(df['Product Name'].mode, inplace=True)\n",
    "df['Product Container'].fillna(df['Product Container'].mode, inplace=True)"
   ]
  },
  {
   "cell_type": "code",
   "execution_count": 99,
   "metadata": {},
   "outputs": [
    {
     "data": {
      "text/plain": [
       "Row ID                  0\n",
       "Order ID                0\n",
       "Order Date              0\n",
       "Order Priority          0\n",
       "Order Quantity          0\n",
       "Sales                   0\n",
       "Discount                0\n",
       "Ship Mode               0\n",
       "Profit                  0\n",
       "Unit Price              0\n",
       "Shipping Cost           0\n",
       "Customer Name           0\n",
       "Province                0\n",
       "Region                  0\n",
       "Customer Segment        0\n",
       "Product Category        0\n",
       "Product Sub-Category    0\n",
       "Product Name            0\n",
       "Product Container       0\n",
       "Ship Date               0\n",
       "dtype: int64"
      ]
     },
     "execution_count": 99,
     "metadata": {},
     "output_type": "execute_result"
    }
   ],
   "source": [
    "# we now check if there were any null values found\n",
    "df.apply(lambda x: x.isnull().sum())"
   ]
  },
  {
   "cell_type": "markdown",
   "metadata": {},
   "source": [
    "# After doing the analysis on filling the missing values and highlighting the errors identified, we can over here say that Most errors captured were data entry errors, involving string based values misplaced on numerical colmuns and vicer versa and a combination of inputting mode, median and data transposition were used to fill the missing values in various columns based on the business nature of each column cleaned.\n"
   ]
  },
  {
   "cell_type": "code",
   "execution_count": null,
   "metadata": {},
   "outputs": [],
   "source": []
  }
 ],
 "metadata": {
  "kernelspec": {
   "display_name": "Python 3",
   "language": "python",
   "name": "python3"
  },
  "language_info": {
   "codemirror_mode": {
    "name": "ipython",
    "version": 3
   },
   "file_extension": ".py",
   "mimetype": "text/x-python",
   "name": "python",
   "nbconvert_exporter": "python",
   "pygments_lexer": "ipython3",
   "version": "3.8.5"
  }
 },
 "nbformat": 4,
 "nbformat_minor": 4
}
